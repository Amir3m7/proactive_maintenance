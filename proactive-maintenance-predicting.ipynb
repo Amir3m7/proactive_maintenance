{
 "cells": [
  {
   "cell_type": "markdown",
   "id": "d622e032",
   "metadata": {
    "papermill": {
     "duration": 0.027854,
     "end_time": "2023-12-05T09:04:51.308309",
     "exception": false,
     "start_time": "2023-12-05T09:04:51.280455",
     "status": "completed"
    },
    "tags": []
   },
   "source": [
    "# Import necessary libraries"
   ]
  },
  {
   "cell_type": "code",
   "execution_count": 1,
   "id": "53a75e5a",
   "metadata": {
    "execution": {
     "iopub.execute_input": "2023-12-05T09:04:51.364992Z",
     "iopub.status.busy": "2023-12-05T09:04:51.364178Z",
     "iopub.status.idle": "2023-12-05T09:04:57.378929Z",
     "shell.execute_reply": "2023-12-05T09:04:57.377558Z"
    },
    "papermill": {
     "duration": 6.046413,
     "end_time": "2023-12-05T09:04:57.382183",
     "exception": false,
     "start_time": "2023-12-05T09:04:51.335770",
     "status": "completed"
    },
    "tags": []
   },
   "outputs": [],
   "source": [
    "import pandas as pd  # Pandas for data manipulation\n",
    "\n",
    "import matplotlib.pyplot as plt  # Matplotlib for data visualization\n",
    "%matplotlib inline\n",
    "import numpy as np  # NumPy for numerical operations\n",
    "import warnings\n",
    "warnings.filterwarnings(\"ignore\")\n",
    "warnings.simplefilter('ignore')\n",
    "import seaborn as sns  # Seaborn for data visualization\n",
    "\n",
    "# Import machine learning models\n",
    "from sklearn.naive_bayes import GaussianNB, BernoulliNB  # For binary classification\n",
    "from sklearn.naive_bayes import MultinomialNB  # For multi-class classification\n",
    "from sklearn.neighbors import KNeighborsClassifier  # K-Nearest Neighbors classifier\n",
    "from sklearn.svm import SVC  # Support Vector Classifier\n",
    "from sklearn.tree import DecisionTreeClassifier  # Decision Tree classifier\n",
    "from sklearn.linear_model import LogisticRegression  # Logistic Regression classifier\n",
    "from sklearn.ensemble import GradientBoostingClassifier  # Gradient Boosting classifier\n",
    "\n",
    "# Import machine learning evaluation metrics\n",
    "from sklearn.metrics import accuracy_score, precision_score, recall_score, f1_score\n",
    "from sklearn.metrics import confusion_matrix, classification_report\n",
    "\n",
    "# Import tools for data splitting\n",
    "from sklearn.model_selection import train_test_split\n",
    "\n"
   ]
  },
  {
   "cell_type": "markdown",
   "id": "62541a32",
   "metadata": {
    "papermill": {
     "duration": 0.027909,
     "end_time": "2023-12-05T09:04:57.438070",
     "exception": false,
     "start_time": "2023-12-05T09:04:57.410161",
     "status": "completed"
    },
    "tags": []
   },
   "source": [
    "### Read the dataset into a DataFrame\n"
   ]
  },
  {
   "cell_type": "code",
   "execution_count": 2,
   "id": "f2fbbce0",
   "metadata": {
    "execution": {
     "iopub.execute_input": "2023-12-05T09:04:57.494541Z",
     "iopub.status.busy": "2023-12-05T09:04:57.493870Z",
     "iopub.status.idle": "2023-12-05T09:04:57.776527Z",
     "shell.execute_reply": "2023-12-05T09:04:57.775217Z"
    },
    "papermill": {
     "duration": 0.314224,
     "end_time": "2023-12-05T09:04:57.779701",
     "exception": false,
     "start_time": "2023-12-05T09:04:57.465477",
     "status": "completed"
    },
    "tags": []
   },
   "outputs": [],
   "source": [
    "df = pd.read_csv(\"predictive_maintenance_dataset.csv\")\n"
   ]
  },
  {
   "cell_type": "markdown",
   "id": "7820a910",
   "metadata": {
    "papermill": {
     "duration": 0.026487,
     "end_time": "2023-12-05T09:04:57.833736",
     "exception": false,
     "start_time": "2023-12-05T09:04:57.807249",
     "status": "completed"
    },
    "tags": []
   },
   "source": [
    "## EDA "
   ]
  },
  {
   "cell_type": "code",
   "execution_count": 3,
   "id": "9030536c",
   "metadata": {
    "execution": {
     "iopub.execute_input": "2023-12-05T09:05:54.409565Z",
     "iopub.status.busy": "2023-12-05T09:05:54.409100Z",
     "iopub.status.idle": "2023-12-05T09:05:54.417401Z",
     "shell.execute_reply": "2023-12-05T09:05:54.416206Z"
    },
    "papermill": {
     "duration": 0.157527,
     "end_time": "2023-12-05T09:05:54.420225",
     "exception": false,
     "start_time": "2023-12-05T09:05:54.262698",
     "status": "completed"
    },
    "tags": []
   },
   "outputs": [
    {
     "data": {
      "text/plain": [
       "(124494, 12)"
      ]
     },
     "execution_count": 3,
     "metadata": {},
     "output_type": "execute_result"
    }
   ],
   "source": [
    "df.shape"
   ]
  },
  {
   "cell_type": "code",
   "execution_count": 4,
   "id": "3b7a327e",
   "metadata": {
    "execution": {
     "iopub.execute_input": "2023-12-05T09:05:54.694853Z",
     "iopub.status.busy": "2023-12-05T09:05:54.694462Z",
     "iopub.status.idle": "2023-12-05T09:05:54.786512Z",
     "shell.execute_reply": "2023-12-05T09:05:54.785302Z"
    },
    "papermill": {
     "duration": 0.231916,
     "end_time": "2023-12-05T09:05:54.789326",
     "exception": false,
     "start_time": "2023-12-05T09:05:54.557410",
     "status": "completed"
    },
    "tags": []
   },
   "outputs": [
    {
     "data": {
      "text/plain": [
       "(124493, 12)"
      ]
     },
     "execution_count": 4,
     "metadata": {},
     "output_type": "execute_result"
    }
   ],
   "source": [
    "df.drop_duplicates(inplace=True)\n",
    "df.shape"
   ]
  },
  {
   "cell_type": "markdown",
   "id": "a3544eaa",
   "metadata": {
    "papermill": {
     "duration": 0.135593,
     "end_time": "2023-12-05T09:05:55.060436",
     "exception": false,
     "start_time": "2023-12-05T09:05:54.924843",
     "status": "completed"
    },
    "tags": []
   },
   "source": [
    "For skewed data, you can consider applying transformations such as logarithmic transformations to make the distribution more symmetric. "
   ]
  },
  {
   "cell_type": "code",
   "execution_count": 5,
   "id": "f9a49e76",
   "metadata": {
    "execution": {
     "iopub.execute_input": "2023-12-05T09:05:55.336491Z",
     "iopub.status.busy": "2023-12-05T09:05:55.336058Z",
     "iopub.status.idle": "2023-12-05T09:05:56.515819Z",
     "shell.execute_reply": "2023-12-05T09:05:56.514596Z"
    },
    "papermill": {
     "duration": 1.321532,
     "end_time": "2023-12-05T09:05:56.518401",
     "exception": false,
     "start_time": "2023-12-05T09:05:55.196869",
     "status": "completed"
    },
    "tags": []
   },
   "outputs": [
    {
     "data": {
      "image/png": "[encoded data removed]",
      "text/plain": [
       "<Figure size 720x432 with 1 Axes>"
      ]
     },
     "metadata": {
      "needs_background": "light"
     },
     "output_type": "display_data"
    }
   ],
   "source": [
    "# Scatter plot using matplotlib\n",
    "plt.figure(figsize=(10, 6))\n",
    "plt.scatter(df['metric7'], df['metric8'], alpha=0.5)\n",
    "plt.title('Scatter Plot between Metric7 and Metric8')\n",
    "plt.xlabel('Metric7')\n",
    "plt.ylabel('Metric8')\n",
    "plt.grid(True)\n",
    "plt.show()"
   ]
  },
  {
   "cell_type": "code",
   "execution_count": 6,
   "id": "61e344a1",
   "metadata": {
    "execution": {
     "iopub.execute_input": "2023-12-05T09:05:56.793781Z",
     "iopub.status.busy": "2023-12-05T09:05:56.792437Z",
     "iopub.status.idle": "2023-12-05T09:05:56.809067Z",
     "shell.execute_reply": "2023-12-05T09:05:56.808252Z"
    },
    "papermill": {
     "duration": 0.157115,
     "end_time": "2023-12-05T09:05:56.811633",
     "exception": false,
     "start_time": "2023-12-05T09:05:56.654518",
     "status": "completed"
    },
    "tags": []
   },
   "outputs": [],
   "source": [
    "for num in [\"2\",\"3\",\"4\",\"7\",\"8\",\"9\"]:\n",
    "    df[f'metric{num}'] = np.log1p(df[f'metric{num}'])"
   ]
  },
  {
   "cell_type": "code",
   "execution_count": 7,
   "id": "463d53c3",
   "metadata": {
    "execution": {
     "iopub.execute_input": "2023-12-05T09:05:57.090437Z",
     "iopub.status.busy": "2023-12-05T09:05:57.089542Z",
     "iopub.status.idle": "2023-12-05T09:05:57.769922Z",
     "shell.execute_reply": "2023-12-05T09:05:57.768637Z"
    },
    "papermill": {
     "duration": 0.824318,
     "end_time": "2023-12-05T09:05:57.772583",
     "exception": false,
     "start_time": "2023-12-05T09:05:56.948265",
     "status": "completed"
    },
    "tags": []
   },
   "outputs": [
    {
     "data": {
      "image/png": "[encoded data removed]",
      "text/plain": [
       "<Figure size 720x432 with 1 Axes>"
      ]
     },
     "metadata": {
      "needs_background": "light"
     },
     "output_type": "display_data"
    }
   ],
   "source": [
    "# Scatter plot using matplotlib\n",
    "plt.figure(figsize=(10, 6))\n",
    "plt.scatter(df['metric7'], df['metric8'], alpha=0.5)\n",
    "plt.title('Scatter Plot between Metric7 and Metric8')\n",
    "plt.xlabel('Metric7')\n",
    "plt.ylabel('Metric8')\n",
    "plt.grid(True)\n",
    "plt.show()"
   ]
  },
  {
   "cell_type": "markdown",
   "id": "41ff0ddd",
   "metadata": {
    "papermill": {
     "duration": 0.139351,
     "end_time": "2023-12-05T09:05:58.051732",
     "exception": false,
     "start_time": "2023-12-05T09:05:57.912381",
     "status": "completed"
    },
    "tags": []
   },
   "source": [
    "metric 7 and metric 8 is almost same values so I will drop metric 8. "
   ]
  },
  {
   "cell_type": "code",
   "execution_count": 8,
   "id": "da911223",
   "metadata": {
    "execution": {
     "iopub.execute_input": "2023-12-05T09:05:58.328245Z",
     "iopub.status.busy": "2023-12-05T09:05:58.327728Z",
     "iopub.status.idle": "2023-12-05T09:05:58.341427Z",
     "shell.execute_reply": "2023-12-05T09:05:58.340178Z"
    },
    "papermill": {
     "duration": 0.154568,
     "end_time": "2023-12-05T09:05:58.344306",
     "exception": false,
     "start_time": "2023-12-05T09:05:58.189738",
     "status": "completed"
    },
    "tags": []
   },
   "outputs": [],
   "source": [
    "df.drop(\"metric8\",axis=1,inplace=True)"
   ]
  },
  {
   "cell_type": "code",
   "execution_count": 9,
   "id": "dda23455",
   "metadata": {
    "execution": {
     "iopub.execute_input": "2023-12-05T09:05:58.620720Z",
     "iopub.status.busy": "2023-12-05T09:05:58.620293Z",
     "iopub.status.idle": "2023-12-05T09:05:58.762787Z",
     "shell.execute_reply": "2023-12-05T09:05:58.761637Z"
    },
    "papermill": {
     "duration": 0.282471,
     "end_time": "2023-12-05T09:05:58.765359",
     "exception": false,
     "start_time": "2023-12-05T09:05:58.482888",
     "status": "completed"
    },
    "tags": []
   },
   "outputs": [
    {
     "name": "stdout",
     "output_type": "stream",
     "text": [
      "Number of rows and columns: (124493, 11)\n",
      "\n",
      "Columns in the dataset: Index(['date', 'device', 'failure', 'metric1', 'metric2', 'metric3', 'metric4',\n",
      "       'metric5', 'metric6', 'metric7', 'metric9'],\n",
      "      dtype='object')\n",
      "\n",
      "Data types and missing values:\n",
      "<class 'pandas.core.frame.DataFrame'>\n",
      "Index: 124493 entries, 0 to 124493\n",
      "Data columns (total 11 columns):\n",
      " #   Column   Non-Null Count   Dtype  \n",
      "---  ------   --------------   -----  \n",
      " 0   date     124493 non-null  object \n",
      " 1   device   124493 non-null  object \n",
      " 2   failure  124493 non-null  int64  \n",
      " 3   metric1  124493 non-null  int64  \n",
      " 4   metric2  124493 non-null  float64\n",
      " 5   metric3  124493 non-null  float64\n",
      " 6   metric4  124493 non-null  float64\n",
      " 7   metric5  124493 non-null  int64  \n",
      " 8   metric6  124493 non-null  int64  \n",
      " 9   metric7  124493 non-null  float64\n",
      " 10  metric9  124493 non-null  float64\n",
      "dtypes: float64(5), int64(4), object(2)\n",
      "memory usage: 11.4+ MB\n",
      "None\n",
      "\n",
      "Summary statistics for numerical columns:\n",
      "             failure       metric1        metric2        metric3  \\\n",
      "count  124493.000000  1.244930e+05  124493.000000  124493.000000   \n",
      "mean        0.000851  1.223875e+08       0.318694       0.177805   \n",
      "std         0.029167  7.045934e+07       1.447012       0.823384   \n",
      "min         0.000000  0.000000e+00       0.000000       0.000000   \n",
      "25%         0.000000  6.128346e+07       0.000000       0.000000   \n",
      "50%         0.000000  1.227971e+08       0.000000       0.000000   \n",
      "75%         0.000000  1.833091e+08       0.000000       0.000000   \n",
      "max         1.000000  2.441405e+08      11.081666      10.123827   \n",
      "\n",
      "             metric4        metric5        metric6        metric7  \\\n",
      "count  124493.000000  124493.000000  124493.000000  124493.000000   \n",
      "mean        0.163130      14.222719  260173.031022       0.031560   \n",
      "std         0.647608      15.943082   99151.389285       0.301827   \n",
      "min         0.000000       1.000000       8.000000       0.000000   \n",
      "25%         0.000000       8.000000  221452.000000       0.000000   \n",
      "50%         0.000000      10.000000  249800.000000       0.000000   \n",
      "75%         0.000000      12.000000  310266.000000       0.000000   \n",
      "max         7.418781      98.000000  689161.000000       6.725034   \n",
      "\n",
      "             metric9  \n",
      "count  124493.000000  \n",
      "mean        0.395972  \n",
      "std         1.006458  \n",
      "min         0.000000  \n",
      "25%         0.000000  \n",
      "50%         0.000000  \n",
      "75%         0.000000  \n",
      "max        11.156265  \n",
      "\n",
      "Missing values:\n",
      "date       0\n",
      "device     0\n",
      "failure    0\n",
      "metric1    0\n",
      "metric2    0\n",
      "metric3    0\n",
      "metric4    0\n",
      "metric5    0\n",
      "metric6    0\n",
      "metric7    0\n",
      "metric9    0\n",
      "dtype: int64\n",
      "\n",
      "Unique values in 'failure' column:\n",
      "failure\n",
      "0    124387\n",
      "1       106\n",
      "Name: count, dtype: int64\n"
     ]
    }
   ],
   "source": [
    "def summarize_data(df):\n",
    "    print(\"Number of rows and columns:\", df.shape)\n",
    "    print(\"\\nColumns in the dataset:\", df.columns)\n",
    "    print(\"\\nData types and missing values:\")\n",
    "    print(df.info())\n",
    "    print(\"\\nSummary statistics for numerical columns:\")\n",
    "    print(df.describe())\n",
    "    print(\"\\nMissing values:\")\n",
    "    print(df.isnull().sum())\n",
    "    print(\"\\nUnique values in 'failure' column:\")\n",
    "    print(df['failure'].value_counts())\n",
    "\n",
    "# Call the function to summarize the data\n",
    "summarize_data(df)\n"
   ]
  },
  {
   "cell_type": "markdown",
   "id": "bf0978fc",
   "metadata": {
    "papermill": {
     "duration": 0.136158,
     "end_time": "2023-12-05T09:05:59.047627",
     "exception": false,
     "start_time": "2023-12-05T09:05:58.911469",
     "status": "completed"
    },
    "tags": []
   },
   "source": [
    "We do not have any null values, but we have a very small number of positive samples for the target variable, indicating an undersampling problem.\n"
   ]
  },
  {
   "cell_type": "code",
   "execution_count": 10,
   "id": "ed115e47",
   "metadata": {
    "execution": {
     "iopub.execute_input": "2023-12-05T09:05:59.328843Z",
     "iopub.status.busy": "2023-12-05T09:05:59.328424Z",
     "iopub.status.idle": "2023-12-05T09:05:59.339661Z",
     "shell.execute_reply": "2023-12-05T09:05:59.337128Z"
    },
    "papermill": {
     "duration": 0.157358,
     "end_time": "2023-12-05T09:05:59.342708",
     "exception": false,
     "start_time": "2023-12-05T09:05:59.185350",
     "status": "completed"
    },
    "tags": []
   },
   "outputs": [
    {
     "data": {
      "text/plain": [
       "0         S1F01085\n",
       "1         S1F0166B\n",
       "2         S1F01E6Y\n",
       "3         S1F01JE0\n",
       "4         S1F01R2B\n",
       "            ...   \n",
       "124489    Z1F0MA1S\n",
       "124490    Z1F0Q8RT\n",
       "124491    Z1F0QK05\n",
       "124492    Z1F0QL3N\n",
       "124493    Z1F0QLC1\n",
       "Name: device, Length: 124493, dtype: object"
      ]
     },
     "execution_count": 10,
     "metadata": {},
     "output_type": "execute_result"
    }
   ],
   "source": [
    "df[\"device\"]"
   ]
  },
  {
   "cell_type": "markdown",
   "id": "d509ec88",
   "metadata": {
    "papermill": {
     "duration": 0.144059,
     "end_time": "2023-12-05T09:05:59.633473",
     "exception": false,
     "start_time": "2023-12-05T09:05:59.489414",
     "status": "completed"
    },
    "tags": []
   },
   "source": [
    "It seems like there is apattern with first 4 letter. so I will create a new column with these values."
   ]
  },
  {
   "cell_type": "code",
   "execution_count": 11,
   "id": "4c99e895",
   "metadata": {
    "execution": {
     "iopub.execute_input": "2023-12-05T09:05:59.923851Z",
     "iopub.status.busy": "2023-12-05T09:05:59.923414Z",
     "iopub.status.idle": "2023-12-05T09:06:00.006823Z",
     "shell.execute_reply": "2023-12-05T09:06:00.005663Z"
    },
    "papermill": {
     "duration": 0.23217,
     "end_time": "2023-12-05T09:06:00.009373",
     "exception": false,
     "start_time": "2023-12-05T09:05:59.777203",
     "status": "completed"
    },
    "tags": []
   },
   "outputs": [
    {
     "data": {
      "text/plain": [
       "device_model\n",
       "S1F0    33168\n",
       "W1F0    23294\n",
       "S1F1    21689\n",
       "W1F1    19974\n",
       "Z1F0    18869\n",
       "Z1F1     7248\n",
       "Z1F2      251\n",
       "Name: count, dtype: int64"
      ]
     },
     "execution_count": 11,
     "metadata": {},
     "output_type": "execute_result"
    }
   ],
   "source": [
    "df[\"device_model\"]=df[\"device\"].apply(lambda x : x[:4])\n",
    "df[\"device_model\"].value_counts()"
   ]
  },
  {
   "cell_type": "markdown",
   "id": "43a55119",
   "metadata": {
    "execution": {
     "iopub.execute_input": "2023-12-05T06:43:16.741890Z",
     "iopub.status.busy": "2023-12-05T06:43:16.741528Z",
     "iopub.status.idle": "2023-12-05T06:43:16.749519Z",
     "shell.execute_reply": "2023-12-05T06:43:16.747751Z",
     "shell.execute_reply.started": "2023-12-05T06:43:16.741863Z"
    },
    "papermill": {
     "duration": 0.137336,
     "end_time": "2023-12-05T09:06:00.284957",
     "exception": false,
     "start_time": "2023-12-05T09:06:00.147621",
     "status": "completed"
    },
    "tags": []
   },
   "source": [
    "What about rest of them ?"
   ]
  },
  {
   "cell_type": "code",
   "execution_count": 12,
   "id": "e50b6bc1",
   "metadata": {
    "execution": {
     "iopub.execute_input": "2023-12-05T09:06:00.559892Z",
     "iopub.status.busy": "2023-12-05T09:06:00.559033Z",
     "iopub.status.idle": "2023-12-05T09:06:00.642945Z",
     "shell.execute_reply": "2023-12-05T09:06:00.641729Z"
    },
    "papermill": {
     "duration": 0.224819,
     "end_time": "2023-12-05T09:06:00.645767",
     "exception": false,
     "start_time": "2023-12-05T09:06:00.420948",
     "status": "completed"
    },
    "tags": []
   },
   "outputs": [
    {
     "data": {
      "text/plain": [
       "device_rest\n",
       "QLC1    304\n",
       "KYCR    304\n",
       "E9EP    304\n",
       "EGMT    304\n",
       "FGBQ    304\n",
       "FP0C    304\n",
       "GCED    304\n",
       "GGPP    304\n",
       "5X69    304\n",
       "GPXY    304\n",
       "H6JG    304\n",
       "FEH7    304\n",
       "MA1S    304\n",
       "FY92    304\n",
       "FZPA    304\n",
       "G9T7    304\n",
       "JH87    304\n",
       "JXDL    304\n",
       "JY02    304\n",
       "GB8A    304\n",
       "Name: count, dtype: int64"
      ]
     },
     "execution_count": 12,
     "metadata": {},
     "output_type": "execute_result"
    }
   ],
   "source": [
    "df[\"device_rest\"]=df[\"device\"].apply(lambda x : x[4:])\n",
    "df[\"device_rest\"].value_counts()[:20]"
   ]
  },
  {
   "cell_type": "code",
   "execution_count": 13,
   "id": "ae8b6206",
   "metadata": {
    "execution": {
     "iopub.execute_input": "2023-12-05T09:06:00.921421Z",
     "iopub.status.busy": "2023-12-05T09:06:00.920567Z",
     "iopub.status.idle": "2023-12-05T09:06:00.941667Z",
     "shell.execute_reply": "2023-12-05T09:06:00.940177Z"
    },
    "papermill": {
     "duration": 0.162275,
     "end_time": "2023-12-05T09:06:00.944360",
     "exception": false,
     "start_time": "2023-12-05T09:06:00.782085",
     "status": "completed"
    },
    "tags": []
   },
   "outputs": [],
   "source": [
    "df.drop(\"device\",axis=1,inplace=True)"
   ]
  },
  {
   "cell_type": "code",
   "execution_count": 14,
   "id": "afb4b157",
   "metadata": {
    "execution": {
     "iopub.execute_input": "2023-12-05T09:06:01.222735Z",
     "iopub.status.busy": "2023-12-05T09:06:01.222097Z",
     "iopub.status.idle": "2023-12-05T09:06:02.053568Z",
     "shell.execute_reply": "2023-12-05T09:06:02.052386Z"
    },
    "papermill": {
     "duration": 0.973546,
     "end_time": "2023-12-05T09:06:02.056279",
     "exception": false,
     "start_time": "2023-12-05T09:06:01.082733",
     "status": "completed"
    },
    "tags": []
   },
   "outputs": [
    {
     "data": {
      "image/png": "[encoded data removed]",
      "text/plain": [
       "<Figure size 864x432 with 2 Axes>"
      ]
     },
     "metadata": {
      "needs_background": "light"
     },
     "output_type": "display_data"
    }
   ],
   "source": [
    "# Create a figure with 1 row and 2 columns\n",
    "plt.figure(figsize=(12, 6))\n",
    "# Plot the distribution of 'failure' with respect to 'device' for failure=1\n",
    "plt.subplot(1, 2, 1)\n",
    "sns.countplot(x=\"device_model\", data=df.loc[df[\"failure\"] == 1])\n",
    "plt.title('Distribution of Failure (failure=1) with respect to Device')\n",
    "\n",
    "# Plot the distribution of 'failure' with respect to 'device' for failure=0\n",
    "plt.subplot(1, 2, 2)\n",
    "sns.countplot(x=\"device_model\", data=df.loc[df[\"failure\"] == 0])\n",
    "plt.title('Distribution of Failure (failure=0) with respect to Device')\n",
    "\n",
    "# Adjust layout for better spacing\n",
    "plt.tight_layout()\n",
    "\n",
    "# Show the plots\n",
    "plt.show()"
   ]
  },
  {
   "cell_type": "markdown",
   "id": "5462506a",
   "metadata": {
    "execution": {
     "iopub.execute_input": "2023-12-05T06:44:21.085863Z",
     "iopub.status.busy": "2023-12-05T06:44:21.085528Z",
     "iopub.status.idle": "2023-12-05T06:44:21.275090Z",
     "shell.execute_reply": "2023-12-05T06:44:21.273735Z",
     "shell.execute_reply.started": "2023-12-05T06:44:21.085840Z"
    },
    "papermill": {
     "duration": 0.139347,
     "end_time": "2023-12-05T09:06:02.334188",
     "exception": false,
     "start_time": "2023-12-05T09:06:02.194841",
     "status": "completed"
    },
    "tags": []
   },
   "source": [
    "Since there is no Z1F2 in target we could drop it for better results."
   ]
  },
  {
   "cell_type": "code",
   "execution_count": 15,
   "id": "02438ce4",
   "metadata": {
    "execution": {
     "iopub.execute_input": "2023-12-05T09:06:02.611614Z",
     "iopub.status.busy": "2023-12-05T09:06:02.610758Z",
     "iopub.status.idle": "2023-12-05T09:06:02.679102Z",
     "shell.execute_reply": "2023-12-05T09:06:02.677895Z"
    },
    "papermill": {
     "duration": 0.209719,
     "end_time": "2023-12-05T09:06:02.682040",
     "exception": false,
     "start_time": "2023-12-05T09:06:02.472321",
     "status": "completed"
    },
    "tags": []
   },
   "outputs": [
    {
     "data": {
      "text/html": [
       "<div>\n",
       "<style scoped>\n",
       "    .dataframe tbody tr th:only-of-type {\n",
       "        vertical-align: middle;\n",
       "    }\n",
       "\n",
       "    .dataframe tbody tr th {\n",
       "        vertical-align: top;\n",
       "    }\n",
       "\n",
       "    .dataframe thead th {\n",
       "        text-align: right;\n",
       "    }\n",
       "</style>\n",
       "<table border=\"1\" class=\"dataframe\">\n",
       "  <thead>\n",
       "    <tr style=\"text-align: right;\">\n",
       "      <th></th>\n",
       "      <th>date</th>\n",
       "      <th>failure</th>\n",
       "      <th>metric1</th>\n",
       "      <th>metric2</th>\n",
       "      <th>metric3</th>\n",
       "      <th>metric4</th>\n",
       "      <th>metric5</th>\n",
       "      <th>metric6</th>\n",
       "      <th>metric7</th>\n",
       "      <th>metric9</th>\n",
       "      <th>device_model</th>\n",
       "      <th>device_rest</th>\n",
       "    </tr>\n",
       "  </thead>\n",
       "  <tbody>\n",
       "    <tr>\n",
       "      <th>124237</th>\n",
       "      <td>11/2/2015</td>\n",
       "      <td>0</td>\n",
       "      <td>18310224</td>\n",
       "      <td>0.000000</td>\n",
       "      <td>0.000000</td>\n",
       "      <td>0.000000</td>\n",
       "      <td>10</td>\n",
       "      <td>353705</td>\n",
       "      <td>2.197225</td>\n",
       "      <td>0.000000</td>\n",
       "      <td>Z1F0</td>\n",
       "      <td>MA1S</td>\n",
       "    </tr>\n",
       "    <tr>\n",
       "      <th>124238</th>\n",
       "      <td>11/2/2015</td>\n",
       "      <td>0</td>\n",
       "      <td>172556680</td>\n",
       "      <td>4.574711</td>\n",
       "      <td>4.682131</td>\n",
       "      <td>1.609438</td>\n",
       "      <td>11</td>\n",
       "      <td>332792</td>\n",
       "      <td>0.000000</td>\n",
       "      <td>2.639057</td>\n",
       "      <td>Z1F0</td>\n",
       "      <td>Q8RT</td>\n",
       "    </tr>\n",
       "    <tr>\n",
       "      <th>124239</th>\n",
       "      <td>11/2/2015</td>\n",
       "      <td>0</td>\n",
       "      <td>19029120</td>\n",
       "      <td>8.483223</td>\n",
       "      <td>0.000000</td>\n",
       "      <td>0.000000</td>\n",
       "      <td>11</td>\n",
       "      <td>350410</td>\n",
       "      <td>0.000000</td>\n",
       "      <td>0.000000</td>\n",
       "      <td>Z1F0</td>\n",
       "      <td>QK05</td>\n",
       "    </tr>\n",
       "    <tr>\n",
       "      <th>124240</th>\n",
       "      <td>11/2/2015</td>\n",
       "      <td>0</td>\n",
       "      <td>226953408</td>\n",
       "      <td>0.000000</td>\n",
       "      <td>0.000000</td>\n",
       "      <td>0.000000</td>\n",
       "      <td>12</td>\n",
       "      <td>358980</td>\n",
       "      <td>0.000000</td>\n",
       "      <td>0.000000</td>\n",
       "      <td>Z1F0</td>\n",
       "      <td>QL3N</td>\n",
       "    </tr>\n",
       "    <tr>\n",
       "      <th>124241</th>\n",
       "      <td>11/2/2015</td>\n",
       "      <td>0</td>\n",
       "      <td>17572840</td>\n",
       "      <td>0.000000</td>\n",
       "      <td>0.000000</td>\n",
       "      <td>0.000000</td>\n",
       "      <td>10</td>\n",
       "      <td>351431</td>\n",
       "      <td>0.000000</td>\n",
       "      <td>11.156265</td>\n",
       "      <td>Z1F0</td>\n",
       "      <td>QLC1</td>\n",
       "    </tr>\n",
       "  </tbody>\n",
       "</table>\n",
       "</div>"
      ],
      "text/plain": [
       "             date  failure    metric1   metric2   metric3   metric4  metric5  \\\n",
       "124237  11/2/2015        0   18310224  0.000000  0.000000  0.000000       10   \n",
       "124238  11/2/2015        0  172556680  4.574711  4.682131  1.609438       11   \n",
       "124239  11/2/2015        0   19029120  8.483223  0.000000  0.000000       11   \n",
       "124240  11/2/2015        0  226953408  0.000000  0.000000  0.000000       12   \n",
       "124241  11/2/2015        0   17572840  0.000000  0.000000  0.000000       10   \n",
       "\n",
       "        metric6   metric7    metric9 device_model device_rest  \n",
       "124237   353705  2.197225   0.000000         Z1F0        MA1S  \n",
       "124238   332792  0.000000   2.639057         Z1F0        Q8RT  \n",
       "124239   350410  0.000000   0.000000         Z1F0        QK05  \n",
       "124240   358980  0.000000   0.000000         Z1F0        QL3N  \n",
       "124241   351431  0.000000  11.156265         Z1F0        QLC1  "
      ]
     },
     "execution_count": 15,
     "metadata": {},
     "output_type": "execute_result"
    }
   ],
   "source": [
    "df.drop(df.loc[df[\"device_model\"]==\"Z1F2\"].index,axis=0,inplace=True)\n",
    "df.reset_index(drop=True,inplace=True)\n",
    "df.tail()"
   ]
  },
  {
   "cell_type": "code",
   "execution_count": 16,
   "id": "8337e479",
   "metadata": {
    "execution": {
     "iopub.execute_input": "2023-12-05T09:06:02.958627Z",
     "iopub.status.busy": "2023-12-05T09:06:02.957807Z",
     "iopub.status.idle": "2023-12-05T09:06:04.221343Z",
     "shell.execute_reply": "2023-12-05T09:06:04.220198Z"
    },
    "papermill": {
     "duration": 1.405348,
     "end_time": "2023-12-05T09:06:04.224577",
     "exception": false,
     "start_time": "2023-12-05T09:06:02.819229",
     "status": "completed"
    },
    "tags": []
   },
   "outputs": [
    {
     "data": {
      "image/png": "[encoded data removed]",
      "text/plain": [
       "<Figure size 864x432 with 1 Axes>"
      ]
     },
     "metadata": {
      "needs_background": "light"
     },
     "output_type": "display_data"
    }
   ],
   "source": [
    "# Create a figure with 1 row and 2 columns\n",
    "plt.figure(figsize=(12, 6))\n",
    "sns.countplot(x=\"device_rest\", data=df.loc[df[\"failure\"] == 1])\n",
    "plt.title('Distribution of Failure (failure=0) with respect to Device')\n",
    "\n",
    "# Adjust layout for better spacing\n",
    "plt.tight_layout()\n",
    "\n",
    "# Show the plots\n",
    "plt.show()"
   ]
  },
  {
   "cell_type": "markdown",
   "id": "53fd3331",
   "metadata": {
    "papermill": {
     "duration": 0.146279,
     "end_time": "2023-12-05T09:06:04.523698",
     "exception": false,
     "start_time": "2023-12-05T09:06:04.377419",
     "status": "completed"
    },
    "tags": []
   },
   "source": [
    "Since Distrubtion of device column rest of it is 1 in target, it is useless for us . I will drop it  "
   ]
  },
  {
   "cell_type": "code",
   "execution_count": 17,
   "id": "5bb5ef07",
   "metadata": {
    "execution": {
     "iopub.execute_input": "2023-12-05T09:06:04.810041Z",
     "iopub.status.busy": "2023-12-05T09:06:04.809210Z",
     "iopub.status.idle": "2023-12-05T09:06:04.842898Z",
     "shell.execute_reply": "2023-12-05T09:06:04.841711Z"
    },
    "papermill": {
     "duration": 0.178531,
     "end_time": "2023-12-05T09:06:04.845462",
     "exception": false,
     "start_time": "2023-12-05T09:06:04.666931",
     "status": "completed"
    },
    "tags": []
   },
   "outputs": [
    {
     "data": {
      "text/html": [
       "<div>\n",
       "<style scoped>\n",
       "    .dataframe tbody tr th:only-of-type {\n",
       "        vertical-align: middle;\n",
       "    }\n",
       "\n",
       "    .dataframe tbody tr th {\n",
       "        vertical-align: top;\n",
       "    }\n",
       "\n",
       "    .dataframe thead th {\n",
       "        text-align: right;\n",
       "    }\n",
       "</style>\n",
       "<table border=\"1\" class=\"dataframe\">\n",
       "  <thead>\n",
       "    <tr style=\"text-align: right;\">\n",
       "      <th></th>\n",
       "      <th>date</th>\n",
       "      <th>failure</th>\n",
       "      <th>metric1</th>\n",
       "      <th>metric2</th>\n",
       "      <th>metric3</th>\n",
       "      <th>metric4</th>\n",
       "      <th>metric5</th>\n",
       "      <th>metric6</th>\n",
       "      <th>metric7</th>\n",
       "      <th>metric9</th>\n",
       "      <th>device_model</th>\n",
       "    </tr>\n",
       "  </thead>\n",
       "  <tbody>\n",
       "    <tr>\n",
       "      <th>68940</th>\n",
       "      <td>4/11/2015</td>\n",
       "      <td>0</td>\n",
       "      <td>21345112</td>\n",
       "      <td>0.0</td>\n",
       "      <td>0.0</td>\n",
       "      <td>0.0</td>\n",
       "      <td>10</td>\n",
       "      <td>2054</td>\n",
       "      <td>0.0</td>\n",
       "      <td>0.000000</td>\n",
       "      <td>W1F1</td>\n",
       "    </tr>\n",
       "    <tr>\n",
       "      <th>39002</th>\n",
       "      <td>2/20/2015</td>\n",
       "      <td>0</td>\n",
       "      <td>189712352</td>\n",
       "      <td>0.0</td>\n",
       "      <td>0.0</td>\n",
       "      <td>0.0</td>\n",
       "      <td>7</td>\n",
       "      <td>228055</td>\n",
       "      <td>0.0</td>\n",
       "      <td>0.000000</td>\n",
       "      <td>Z1F1</td>\n",
       "    </tr>\n",
       "    <tr>\n",
       "      <th>24217</th>\n",
       "      <td>1/30/2015</td>\n",
       "      <td>0</td>\n",
       "      <td>65604440</td>\n",
       "      <td>0.0</td>\n",
       "      <td>0.0</td>\n",
       "      <td>0.0</td>\n",
       "      <td>9</td>\n",
       "      <td>171978</td>\n",
       "      <td>0.0</td>\n",
       "      <td>2.197225</td>\n",
       "      <td>Z1F1</td>\n",
       "    </tr>\n",
       "    <tr>\n",
       "      <th>105655</th>\n",
       "      <td>7/23/2015</td>\n",
       "      <td>0</td>\n",
       "      <td>219365568</td>\n",
       "      <td>0.0</td>\n",
       "      <td>0.0</td>\n",
       "      <td>0.0</td>\n",
       "      <td>8</td>\n",
       "      <td>219125</td>\n",
       "      <td>0.0</td>\n",
       "      <td>0.000000</td>\n",
       "      <td>W1F1</td>\n",
       "    </tr>\n",
       "    <tr>\n",
       "      <th>40779</th>\n",
       "      <td>2/23/2015</td>\n",
       "      <td>0</td>\n",
       "      <td>207700368</td>\n",
       "      <td>0.0</td>\n",
       "      <td>0.0</td>\n",
       "      <td>0.0</td>\n",
       "      <td>8</td>\n",
       "      <td>212836</td>\n",
       "      <td>0.0</td>\n",
       "      <td>0.000000</td>\n",
       "      <td>W1F0</td>\n",
       "    </tr>\n",
       "  </tbody>\n",
       "</table>\n",
       "</div>"
      ],
      "text/plain": [
       "             date  failure    metric1  metric2  metric3  metric4  metric5  \\\n",
       "68940   4/11/2015        0   21345112      0.0      0.0      0.0       10   \n",
       "39002   2/20/2015        0  189712352      0.0      0.0      0.0        7   \n",
       "24217   1/30/2015        0   65604440      0.0      0.0      0.0        9   \n",
       "105655  7/23/2015        0  219365568      0.0      0.0      0.0        8   \n",
       "40779   2/23/2015        0  207700368      0.0      0.0      0.0        8   \n",
       "\n",
       "        metric6  metric7   metric9 device_model  \n",
       "68940      2054      0.0  0.000000         W1F1  \n",
       "39002    228055      0.0  0.000000         Z1F1  \n",
       "24217    171978      0.0  2.197225         Z1F1  \n",
       "105655   219125      0.0  0.000000         W1F1  \n",
       "40779    212836      0.0  0.000000         W1F0  "
      ]
     },
     "execution_count": 17,
     "metadata": {},
     "output_type": "execute_result"
    }
   ],
   "source": [
    "df.drop(\"device_rest\",axis=1,inplace=True)\n",
    "df.sample(5)"
   ]
  },
  {
   "cell_type": "code",
   "execution_count": 18,
   "id": "30057774",
   "metadata": {
    "execution": {
     "iopub.execute_input": "2023-12-05T09:06:05.421547Z",
     "iopub.status.busy": "2023-12-05T09:06:05.420558Z",
     "iopub.status.idle": "2023-12-05T09:06:14.901816Z",
     "shell.execute_reply": "2023-12-05T09:06:14.900586Z"
    },
    "papermill": {
     "duration": 9.627342,
     "end_time": "2023-12-05T09:06:14.905853",
     "exception": false,
     "start_time": "2023-12-05T09:06:05.278511",
     "status": "completed"
    },
    "tags": []
   },
   "outputs": [
    {
     "name": "stdout",
     "output_type": "stream",
     "text": [
      "Distribution for failure is 0\n"
     ]
    },
    {
     "data": {
      "image/png": "[encoded data removed]",
      "text/plain": [
       "<Figure size 1440x720 with 8 Axes>"
      ]
     },
     "metadata": {
      "needs_background": "light"
     },
     "output_type": "display_data"
    }
   ],
   "source": [
    "# Create histograms to visualize the distribution of selected metrics with 'failure' as hue\n",
    "plt.figure(figsize=(4*5, 2*5))\n",
    "print(\"Distribution for failure is 0\")\n",
    "mask= df.failure==0\n",
    "for i, col in enumerate(['metric1', 'metric2', 'metric3', 'metric4', 'metric5', 'metric6', 'metric7',  'metric9']):\n",
    "    plt.subplot(2, 4, i + 1)\n",
    "    sns.histplot(data=df.loc[mask], x=col, kde=True)\n",
    "    plt.title(f'Distribution of {col}')\n",
    "plt.tight_layout()"
   ]
  },
  {
   "cell_type": "code",
   "execution_count": 19,
   "id": "c3d9f71a",
   "metadata": {
    "execution": {
     "iopub.execute_input": "2023-12-05T09:06:15.206251Z",
     "iopub.status.busy": "2023-12-05T09:06:15.205381Z",
     "iopub.status.idle": "2023-12-05T09:06:18.632621Z",
     "shell.execute_reply": "2023-12-05T09:06:18.631181Z"
    },
    "papermill": {
     "duration": 3.579083,
     "end_time": "2023-12-05T09:06:18.635783",
     "exception": false,
     "start_time": "2023-12-05T09:06:15.056700",
     "status": "completed"
    },
    "tags": []
   },
   "outputs": [
    {
     "name": "stdout",
     "output_type": "stream",
     "text": [
      "Distribution for failure is 1\n"
     ]
    },
    {
     "data": {
      "image/png": "[encoded data removed]",
      "text/plain": [
       "<Figure size 1440x720 with 8 Axes>"
      ]
     },
     "metadata": {
      "needs_background": "light"
     },
     "output_type": "display_data"
    }
   ],
   "source": [
    "# Create histograms to visualize the distribution of selected metrics with 'failure' as hue\n",
    "plt.figure(figsize=(20, 10))\n",
    "print(\"Distribution for failure is 1\")\n",
    "mask= df.failure>0\n",
    "for i, col in enumerate(['metric1', 'metric2', 'metric3', 'metric4', 'metric5', 'metric6', 'metric7', 'metric9']):\n",
    "    plt.subplot(2, 4, i + 1)\n",
    "    sns.histplot(data=df.loc[mask], x=col, kde=True)\n",
    "    plt.title(f'Distribution of {col}')\n",
    "plt.tight_layout()"
   ]
  },
  {
   "cell_type": "code",
   "execution_count": 20,
   "id": "f7475745",
   "metadata": {
    "execution": {
     "iopub.execute_input": "2023-12-05T09:06:18.935688Z",
     "iopub.status.busy": "2023-12-05T09:06:18.935263Z",
     "iopub.status.idle": "2023-12-05T09:06:22.606737Z",
     "shell.execute_reply": "2023-12-05T09:06:22.605786Z"
    },
    "papermill": {
     "duration": 3.819443,
     "end_time": "2023-12-05T09:06:22.609534",
     "exception": false,
     "start_time": "2023-12-05T09:06:18.790091",
     "status": "completed"
    },
    "tags": []
   },
   "outputs": [
    {
     "data": {
      "text/plain": [
       "Text(0.5, 1.0, 'Failure over Time by Month')"
      ]
     },
     "execution_count": 20,
     "metadata": {},
     "output_type": "execute_result"
    },
    {
     "data": {
      "image/png": "[encoded data removed]",
      "text/plain": [
       "<Figure size 720x432 with 1 Axes>"
      ]
     },
     "metadata": {
      "needs_background": "light"
     },
     "output_type": "display_data"
    }
   ],
   "source": [
    "# Convert the 'date' column to datetime format\n",
    "df['date'] = pd.to_datetime(df['date'])\n",
    "\n",
    "# Extract and format the 'month' column for plotting\n",
    "df['month'] = df['date'].dt.to_period('M')\n",
    "df['month'] = df['month'].dt.strftime('%Y-%m')\n",
    "\n",
    "# Create a line plot to visualize 'failure' over time by month\n",
    "plt.figure(figsize=(10, 6))\n",
    "sns.lineplot(data=df, x='month', y='failure')\n",
    "plt.xticks(rotation=45)\n",
    "plt.title(\"Failure over Time by Month\")\n"
   ]
  },
  {
   "cell_type": "code",
   "execution_count": 21,
   "id": "d0f58908",
   "metadata": {
    "execution": {
     "iopub.execute_input": "2023-12-05T09:06:22.915090Z",
     "iopub.status.busy": "2023-12-05T09:06:22.914651Z",
     "iopub.status.idle": "2023-12-05T09:06:28.171140Z",
     "shell.execute_reply": "2023-12-05T09:06:28.169935Z"
    },
    "papermill": {
     "duration": 5.408023,
     "end_time": "2023-12-05T09:06:28.174370",
     "exception": false,
     "start_time": "2023-12-05T09:06:22.766347",
     "status": "completed"
    },
    "tags": []
   },
   "outputs": [
    {
     "data": {
      "text/plain": [
       "Text(0.5, 1.0, 'Failure over Time by Week')"
      ]
     },
     "execution_count": 21,
     "metadata": {},
     "output_type": "execute_result"
    },
    {
     "data": {
      "image/png": "[encoded data removed]",
      "text/plain": [
       "<Figure size 720x432 with 1 Axes>"
      ]
     },
     "metadata": {
      "needs_background": "light"
     },
     "output_type": "display_data"
    }
   ],
   "source": [
    "\n",
    "# Extract and format the 'week' column for plotting\n",
    "df['week'] = df['date'].dt.to_period('W')\n",
    "df['week'] = df['week'].dt.strftime('%Y-%U')\n",
    "\n",
    "# Create a line plot to visualize 'failure' over time by week\n",
    "plt.figure(figsize=(10, 6))\n",
    "sns.lineplot(data=df, x='week', y='failure')\n",
    "plt.xticks(rotation=45)\n",
    "plt.title(\"Failure over Time by Week\")\n"
   ]
  },
  {
   "cell_type": "code",
   "execution_count": 22,
   "id": "7ed520e3",
   "metadata": {
    "execution": {
     "iopub.execute_input": "2023-12-05T09:06:28.482753Z",
     "iopub.status.busy": "2023-12-05T09:06:28.482330Z",
     "iopub.status.idle": "2023-12-05T09:06:29.253153Z",
     "shell.execute_reply": "2023-12-05T09:06:29.251863Z"
    },
    "papermill": {
     "duration": 0.923711,
     "end_time": "2023-12-05T09:06:29.257037",
     "exception": false,
     "start_time": "2023-12-05T09:06:28.333326",
     "status": "completed"
    },
    "tags": []
   },
   "outputs": [
    {
     "data": {
      "text/plain": [
       "Text(0.5, 1.0, 'Correlation Matrix')"
      ]
     },
     "execution_count": 22,
     "metadata": {},
     "output_type": "execute_result"
    },
    {
     "data": {
      "image/png": "[encoded data removed]",
      "text/plain": [
       "<Figure size 864x720 with 2 Axes>"
      ]
     },
     "metadata": {
      "needs_background": "light"
     },
     "output_type": "display_data"
    }
   ],
   "source": [
    "\n",
    "# Select only numeric columns for the correlation matrix\n",
    "numeric_cols = df.select_dtypes(include=[np.number])\n",
    "\n",
    "# Compute the correlation matrix\n",
    "correlation_matrix = numeric_cols.corr()\n",
    "\n",
    "# Create a heatmap to visualize the correlation matrix\n",
    "plt.figure(figsize=(12, 10))\n",
    "sns.heatmap(correlation_matrix, annot=True, fmt=\".2f\", cmap='coolwarm')\n",
    "plt.title(\"Correlation Matrix\")\n"
   ]
  },
  {
   "cell_type": "markdown",
   "id": "94bb13e3",
   "metadata": {
    "papermill": {
     "duration": 0.147972,
     "end_time": "2023-12-05T09:06:29.563993",
     "exception": false,
     "start_time": "2023-12-05T09:06:29.416021",
     "status": "completed"
    },
    "tags": []
   },
   "source": [
    "Since failure is generally zero looking to correlation would not be efficient."
   ]
  },
  {
   "cell_type": "code",
   "execution_count": 23,
   "id": "697a9c45",
   "metadata": {
    "execution": {
     "iopub.execute_input": "2023-12-05T09:06:29.864278Z",
     "iopub.status.busy": "2023-12-05T09:06:29.863794Z",
     "iopub.status.idle": "2023-12-05T09:06:30.161526Z",
     "shell.execute_reply": "2023-12-05T09:06:30.160200Z"
    },
    "papermill": {
     "duration": 0.450264,
     "end_time": "2023-12-05T09:06:30.164339",
     "exception": false,
     "start_time": "2023-12-05T09:06:29.714075",
     "status": "completed"
    },
    "tags": []
   },
   "outputs": [
    {
     "data": {
      "text/plain": [
       "Text(0.5, 1.0, \"Distribution of 'failure'\")"
      ]
     },
     "execution_count": 23,
     "metadata": {},
     "output_type": "execute_result"
    },
    {
     "data": {
      "image/png": "[encoded data removed]",
      "text/plain": [
       "<Figure size 432x288 with 1 Axes>"
      ]
     },
     "metadata": {
      "needs_background": "light"
     },
     "output_type": "display_data"
    }
   ],
   "source": [
    "\n",
    "# Create a countplot to visualize the distribution of 'failure'\n",
    "plt.figure(figsize=(6, 4))\n",
    "sns.countplot(data=df, x='failure')\n",
    "plt.title(\"Distribution of 'failure'\")\n",
    "\n"
   ]
  },
  {
   "cell_type": "markdown",
   "id": "a9d2c187",
   "metadata": {
    "papermill": {
     "duration": 0.152875,
     "end_time": "2023-12-05T09:06:30.468035",
     "exception": false,
     "start_time": "2023-12-05T09:06:30.315160",
     "status": "completed"
    },
    "tags": []
   },
   "source": [
    "So the problem is undersampling problem!"
   ]
  },
  {
   "cell_type": "code",
   "execution_count": 24,
   "id": "77b4a93f",
   "metadata": {
    "execution": {
     "iopub.execute_input": "2023-12-05T09:06:30.780841Z",
     "iopub.status.busy": "2023-12-05T09:06:30.780064Z",
     "iopub.status.idle": "2023-12-05T09:06:30.927343Z",
     "shell.execute_reply": "2023-12-05T09:06:30.926173Z"
    },
    "papermill": {
     "duration": 0.305754,
     "end_time": "2023-12-05T09:06:30.930081",
     "exception": false,
     "start_time": "2023-12-05T09:06:30.624327",
     "status": "completed"
    },
    "tags": []
   },
   "outputs": [],
   "source": [
    "\n",
    "# Extract day of week, day of month, and is_weekend features from the 'date' column\n",
    "df['date'] = pd.to_datetime(df['date'])\n",
    "df['day_of_week'] = df['date'].dt.dayofweek\n",
    "df['day_of_month'] = df['date'].dt.day\n",
    "df['is_weekend'] = df['day_of_week'].apply(lambda x: 1 if x >= 5 else 0)\n"
   ]
  },
  {
   "cell_type": "code",
   "execution_count": 25,
   "id": "a60e1249",
   "metadata": {
    "execution": {
     "iopub.execute_input": "2023-12-05T09:06:31.237080Z",
     "iopub.status.busy": "2023-12-05T09:06:31.236604Z",
     "iopub.status.idle": "2023-12-05T09:06:32.288649Z",
     "shell.execute_reply": "2023-12-05T09:06:32.287081Z"
    },
    "papermill": {
     "duration": 1.210399,
     "end_time": "2023-12-05T09:06:32.291647",
     "exception": false,
     "start_time": "2023-12-05T09:06:31.081248",
     "status": "completed"
    },
    "tags": []
   },
   "outputs": [
    {
     "data": {
      "image/png": "[encoded data removed]",
      "text/plain": [
       "<Figure size 1080x360 with 3 Axes>"
      ]
     },
     "metadata": {
      "needs_background": "light"
     },
     "output_type": "display_data"
    }
   ],
   "source": [
    "\n",
    "# Create subplots to visualize the distribution of day_of_week, day_of_month, and is_weekend\n",
    "plt.figure(figsize=(15, 5))\n",
    "\n",
    "# Distribution of 'day_of_week'\n",
    "plt.subplot(131)\n",
    "sns.countplot(data=df, x='day_of_week', palette='Set3')\n",
    "plt.title(\"Distribution of day_of_week\")\n",
    "plt.xlabel(\"Day of Week\")\n",
    "plt.ylabel(\"Count\")\n",
    "\n",
    "# Distribution of 'day_of_month'\n",
    "plt.subplot(132)\n",
    "sns.countplot(data=df, x='day_of_month', palette='Set3')\n",
    "plt.title(\"Distribution of day_of_month\")\n",
    "plt.xlabel(\"Day of Month\")\n",
    "plt.ylabel(\"Count\")\n",
    "\n",
    "# Distribution of 'is_weekend'\n",
    "plt.subplot(133)\n",
    "sns.countplot(data=df, x='is_weekend', palette='Set3')\n",
    "plt.title(\"Distribution of is_weekend\")\n",
    "plt.xlabel(\"Weekend (1) or Weekday (0)\")\n",
    "plt.ylabel(\"Count\")\n",
    "\n",
    "# Show the subplots\n",
    "plt.tight_layout()\n",
    "plt.show()"
   ]
  },
  {
   "cell_type": "code",
   "execution_count": 26,
   "id": "7857297e",
   "metadata": {
    "execution": {
     "iopub.execute_input": "2023-12-05T09:06:32.608053Z",
     "iopub.status.busy": "2023-12-05T09:06:32.607413Z",
     "iopub.status.idle": "2023-12-05T09:06:32.687067Z",
     "shell.execute_reply": "2023-12-05T09:06:32.685655Z"
    },
    "papermill": {
     "duration": 0.235955,
     "end_time": "2023-12-05T09:06:32.690042",
     "exception": false,
     "start_time": "2023-12-05T09:06:32.454087",
     "status": "completed"
    },
    "tags": []
   },
   "outputs": [
    {
     "name": "stdout",
     "output_type": "stream",
     "text": [
      "<class 'pandas.core.frame.DataFrame'>\n",
      "RangeIndex: 124242 entries, 0 to 124241\n",
      "Data columns (total 15 columns):\n",
      " #   Column        Non-Null Count   Dtype  \n",
      "---  ------        --------------   -----  \n",
      " 0   failure       124242 non-null  int64  \n",
      " 1   metric1       124242 non-null  int64  \n",
      " 2   metric2       124242 non-null  float64\n",
      " 3   metric3       124242 non-null  float64\n",
      " 4   metric4       124242 non-null  float64\n",
      " 5   metric5       124242 non-null  int64  \n",
      " 6   metric6       124242 non-null  int64  \n",
      " 7   metric7       124242 non-null  float64\n",
      " 8   metric9       124242 non-null  float64\n",
      " 9   device_model  124242 non-null  object \n",
      " 10  month         124242 non-null  int32  \n",
      " 11  week          124242 non-null  UInt32 \n",
      " 12  day_of_week   124242 non-null  int32  \n",
      " 13  day_of_month  124242 non-null  int32  \n",
      " 14  is_weekend    124242 non-null  int64  \n",
      "dtypes: UInt32(1), float64(5), int32(3), int64(5), object(1)\n",
      "memory usage: 12.4+ MB\n"
     ]
    }
   ],
   "source": [
    "# Extract the month number and week number from the 'date' column and drop the 'date' column\n",
    "df['month'] = df['date'].dt.month\n",
    "df['week'] = df['date'].dt.isocalendar().week\n",
    "df = df.drop(['date'], axis=1)\n",
    "\n",
    "# Check the DataFrame information after these transformations\n",
    "df.info()"
   ]
  },
  {
   "cell_type": "code",
   "execution_count": 27,
   "id": "54e9890b",
   "metadata": {
    "execution": {
     "iopub.execute_input": "2023-12-05T09:06:32.998856Z",
     "iopub.status.busy": "2023-12-05T09:06:32.997977Z",
     "iopub.status.idle": "2023-12-05T09:06:33.042643Z",
     "shell.execute_reply": "2023-12-05T09:06:33.041435Z"
    },
    "papermill": {
     "duration": 0.203274,
     "end_time": "2023-12-05T09:06:33.045693",
     "exception": false,
     "start_time": "2023-12-05T09:06:32.842419",
     "status": "completed"
    },
    "tags": []
   },
   "outputs": [],
   "source": [
    "df=pd.get_dummies(df,drop_first=True)"
   ]
  },
  {
   "cell_type": "code",
   "execution_count": 28,
   "id": "9756b64a",
   "metadata": {
    "execution": {
     "iopub.execute_input": "2023-12-05T09:06:33.352103Z",
     "iopub.status.busy": "2023-12-05T09:06:33.351395Z",
     "iopub.status.idle": "2023-12-05T09:06:33.357505Z",
     "shell.execute_reply": "2023-12-05T09:06:33.355931Z"
    },
    "papermill": {
     "duration": 0.164163,
     "end_time": "2023-12-05T09:06:33.359894",
     "exception": false,
     "start_time": "2023-12-05T09:06:33.195731",
     "status": "completed"
    },
    "tags": []
   },
   "outputs": [],
   "source": [
    "#pip install imblearn"
   ]
  },
  {
   "cell_type": "code",
   "execution_count": 29,
   "id": "b447bec0",
   "metadata": {
    "execution": {
     "iopub.execute_input": "2023-12-05T09:06:33.673517Z",
     "iopub.status.busy": "2023-12-05T09:06:33.672762Z",
     "iopub.status.idle": "2023-12-05T09:06:33.820890Z",
     "shell.execute_reply": "2023-12-05T09:06:33.819626Z"
    },
    "papermill": {
     "duration": 0.305891,
     "end_time": "2023-12-05T09:06:33.823712",
     "exception": false,
     "start_time": "2023-12-05T09:06:33.517821",
     "status": "completed"
    },
    "tags": []
   },
   "outputs": [],
   "source": [
    "# Import the necessary library for undersampling\n",
    "from imblearn.under_sampling import RandomUnderSampler\n",
    "\n"
   ]
  },
  {
   "cell_type": "code",
   "execution_count": 30,
   "id": "cf264e86",
   "metadata": {
    "execution": {
     "iopub.execute_input": "2023-12-05T09:06:34.129960Z",
     "iopub.status.busy": "2023-12-05T09:06:34.128238Z",
     "iopub.status.idle": "2023-12-05T09:06:34.144098Z",
     "shell.execute_reply": "2023-12-05T09:06:34.143203Z"
    },
    "papermill": {
     "duration": 0.17167,
     "end_time": "2023-12-05T09:06:34.146636",
     "exception": false,
     "start_time": "2023-12-05T09:06:33.974966",
     "status": "completed"
    },
    "tags": []
   },
   "outputs": [],
   "source": [
    "# Create a copy of the DataFrame 'df'\n",
    "X = df.copy()\n",
    "\n",
    "# Create the target variable 'Y' by selecting the 'failure' column\n",
    "Y = df[\"failure\"]\n",
    "\n",
    "# Remove the 'failure' column from the feature matrix 'X'\n",
    "X.drop(\"failure\", axis=1, inplace=True)\n"
   ]
  },
  {
   "cell_type": "code",
   "execution_count": 31,
   "id": "79a1d995",
   "metadata": {
    "execution": {
     "iopub.execute_input": "2023-12-05T09:06:34.455429Z",
     "iopub.status.busy": "2023-12-05T09:06:34.454085Z",
     "iopub.status.idle": "2023-12-05T09:06:34.501640Z",
     "shell.execute_reply": "2023-12-05T09:06:34.500455Z"
    },
    "papermill": {
     "duration": 0.205245,
     "end_time": "2023-12-05T09:06:34.504431",
     "exception": false,
     "start_time": "2023-12-05T09:06:34.299186",
     "status": "completed"
    },
    "tags": []
   },
   "outputs": [
    {
     "data": {
      "text/plain": [
       "(212, 18)"
      ]
     },
     "execution_count": 31,
     "metadata": {},
     "output_type": "execute_result"
    }
   ],
   "source": [
    "\n",
    "# Create an instance of the RandomUnderSampler with a fixed random state\n",
    "rus = RandomUnderSampler(random_state=42)\n",
    "\n",
    "# Perform random under-sampling and obtain resampled feature matrix and target variable\n",
    "X_resampled, y_resampled = rus.fit_resample(X, Y)\n",
    "X_resampled.shape"
   ]
  },
  {
   "cell_type": "code",
   "execution_count": 32,
   "id": "8f540dc4",
   "metadata": {
    "execution": {
     "iopub.execute_input": "2023-12-05T09:06:34.812884Z",
     "iopub.status.busy": "2023-12-05T09:06:34.812013Z",
     "iopub.status.idle": "2023-12-05T09:06:34.818987Z",
     "shell.execute_reply": "2023-12-05T09:06:34.818150Z"
    },
    "papermill": {
     "duration": 0.162572,
     "end_time": "2023-12-05T09:06:34.821474",
     "exception": false,
     "start_time": "2023-12-05T09:06:34.658902",
     "status": "completed"
    },
    "tags": []
   },
   "outputs": [],
   "source": [
    "\n",
    "# Create a new DataFrame 'under_sample' by copying the resampled features and adding the 'failure' column back\n",
    "under_sample = X_resampled.copy()\n",
    "under_sample[\"failure\"] = y_resampled\n"
   ]
  },
  {
   "cell_type": "code",
   "execution_count": 33,
   "id": "d8dbdbfc",
   "metadata": {
    "execution": {
     "iopub.execute_input": "2023-12-05T09:06:35.126222Z",
     "iopub.status.busy": "2023-12-05T09:06:35.125392Z",
     "iopub.status.idle": "2023-12-05T09:06:35.152650Z",
     "shell.execute_reply": "2023-12-05T09:06:35.151494Z"
    },
    "papermill": {
     "duration": 0.181804,
     "end_time": "2023-12-05T09:06:35.155246",
     "exception": false,
     "start_time": "2023-12-05T09:06:34.973442",
     "status": "completed"
    },
    "tags": []
   },
   "outputs": [
    {
     "data": {
      "text/html": [
       "<div>\n",
       "<style scoped>\n",
       "    .dataframe tbody tr th:only-of-type {\n",
       "        vertical-align: middle;\n",
       "    }\n",
       "\n",
       "    .dataframe tbody tr th {\n",
       "        vertical-align: top;\n",
       "    }\n",
       "\n",
       "    .dataframe thead th {\n",
       "        text-align: right;\n",
       "    }\n",
       "</style>\n",
       "<table border=\"1\" class=\"dataframe\">\n",
       "  <thead>\n",
       "    <tr style=\"text-align: right;\">\n",
       "      <th></th>\n",
       "      <th>metric1</th>\n",
       "      <th>metric2</th>\n",
       "      <th>metric3</th>\n",
       "      <th>metric4</th>\n",
       "      <th>metric5</th>\n",
       "      <th>metric6</th>\n",
       "      <th>metric7</th>\n",
       "      <th>metric9</th>\n",
       "      <th>month</th>\n",
       "      <th>week</th>\n",
       "      <th>day_of_week</th>\n",
       "      <th>day_of_month</th>\n",
       "      <th>is_weekend</th>\n",
       "      <th>device_model_S1F1</th>\n",
       "      <th>device_model_W1F0</th>\n",
       "      <th>device_model_W1F1</th>\n",
       "      <th>device_model_Z1F0</th>\n",
       "      <th>device_model_Z1F1</th>\n",
       "      <th>failure</th>\n",
       "    </tr>\n",
       "  </thead>\n",
       "  <tbody>\n",
       "    <tr>\n",
       "      <th>82676</th>\n",
       "      <td>80616240</td>\n",
       "      <td>10.234840</td>\n",
       "      <td>0.000000</td>\n",
       "      <td>5.159055</td>\n",
       "      <td>17</td>\n",
       "      <td>342856</td>\n",
       "      <td>0.000000</td>\n",
       "      <td>1.791759</td>\n",
       "      <td>5</td>\n",
       "      <td>21</td>\n",
       "      <td>0</td>\n",
       "      <td>18</td>\n",
       "      <td>0</td>\n",
       "      <td>False</td>\n",
       "      <td>True</td>\n",
       "      <td>False</td>\n",
       "      <td>False</td>\n",
       "      <td>False</td>\n",
       "      <td>1</td>\n",
       "    </tr>\n",
       "    <tr>\n",
       "      <th>71766</th>\n",
       "      <td>85391744</td>\n",
       "      <td>0.000000</td>\n",
       "      <td>0.000000</td>\n",
       "      <td>0.000000</td>\n",
       "      <td>11</td>\n",
       "      <td>481762</td>\n",
       "      <td>0.000000</td>\n",
       "      <td>0.000000</td>\n",
       "      <td>4</td>\n",
       "      <td>16</td>\n",
       "      <td>5</td>\n",
       "      <td>18</td>\n",
       "      <td>1</td>\n",
       "      <td>False</td>\n",
       "      <td>False</td>\n",
       "      <td>False</td>\n",
       "      <td>True</td>\n",
       "      <td>False</td>\n",
       "      <td>0</td>\n",
       "    </tr>\n",
       "    <tr>\n",
       "      <th>86092</th>\n",
       "      <td>193511720</td>\n",
       "      <td>0.000000</td>\n",
       "      <td>0.000000</td>\n",
       "      <td>0.000000</td>\n",
       "      <td>12</td>\n",
       "      <td>256774</td>\n",
       "      <td>0.000000</td>\n",
       "      <td>0.000000</td>\n",
       "      <td>5</td>\n",
       "      <td>22</td>\n",
       "      <td>3</td>\n",
       "      <td>28</td>\n",
       "      <td>0</td>\n",
       "      <td>False</td>\n",
       "      <td>False</td>\n",
       "      <td>False</td>\n",
       "      <td>False</td>\n",
       "      <td>False</td>\n",
       "      <td>1</td>\n",
       "    </tr>\n",
       "    <tr>\n",
       "      <th>105521</th>\n",
       "      <td>146996384</td>\n",
       "      <td>6.089045</td>\n",
       "      <td>0.000000</td>\n",
       "      <td>0.693147</td>\n",
       "      <td>10</td>\n",
       "      <td>290027</td>\n",
       "      <td>0.000000</td>\n",
       "      <td>0.000000</td>\n",
       "      <td>7</td>\n",
       "      <td>30</td>\n",
       "      <td>3</td>\n",
       "      <td>23</td>\n",
       "      <td>0</td>\n",
       "      <td>False</td>\n",
       "      <td>False</td>\n",
       "      <td>False</td>\n",
       "      <td>False</td>\n",
       "      <td>False</td>\n",
       "      <td>1</td>\n",
       "    </tr>\n",
       "    <tr>\n",
       "      <th>94182</th>\n",
       "      <td>224711536</td>\n",
       "      <td>0.000000</td>\n",
       "      <td>0.000000</td>\n",
       "      <td>0.000000</td>\n",
       "      <td>8</td>\n",
       "      <td>269682</td>\n",
       "      <td>0.000000</td>\n",
       "      <td>0.000000</td>\n",
       "      <td>6</td>\n",
       "      <td>25</td>\n",
       "      <td>5</td>\n",
       "      <td>20</td>\n",
       "      <td>1</td>\n",
       "      <td>False</td>\n",
       "      <td>False</td>\n",
       "      <td>False</td>\n",
       "      <td>False</td>\n",
       "      <td>False</td>\n",
       "      <td>0</td>\n",
       "    </tr>\n",
       "    <tr>\n",
       "      <th>24361</th>\n",
       "      <td>136982608</td>\n",
       "      <td>0.000000</td>\n",
       "      <td>0.000000</td>\n",
       "      <td>0.000000</td>\n",
       "      <td>12</td>\n",
       "      <td>197046</td>\n",
       "      <td>0.000000</td>\n",
       "      <td>0.000000</td>\n",
       "      <td>1</td>\n",
       "      <td>5</td>\n",
       "      <td>5</td>\n",
       "      <td>31</td>\n",
       "      <td>1</td>\n",
       "      <td>False</td>\n",
       "      <td>False</td>\n",
       "      <td>False</td>\n",
       "      <td>False</td>\n",
       "      <td>False</td>\n",
       "      <td>0</td>\n",
       "    </tr>\n",
       "    <tr>\n",
       "      <th>77560</th>\n",
       "      <td>123190616</td>\n",
       "      <td>11.039669</td>\n",
       "      <td>0.693147</td>\n",
       "      <td>2.302585</td>\n",
       "      <td>4</td>\n",
       "      <td>336709</td>\n",
       "      <td>0.000000</td>\n",
       "      <td>0.000000</td>\n",
       "      <td>5</td>\n",
       "      <td>19</td>\n",
       "      <td>0</td>\n",
       "      <td>4</td>\n",
       "      <td>0</td>\n",
       "      <td>False</td>\n",
       "      <td>False</td>\n",
       "      <td>False</td>\n",
       "      <td>False</td>\n",
       "      <td>True</td>\n",
       "      <td>1</td>\n",
       "    </tr>\n",
       "    <tr>\n",
       "      <th>4873</th>\n",
       "      <td>48467332</td>\n",
       "      <td>11.078706</td>\n",
       "      <td>0.000000</td>\n",
       "      <td>6.735780</td>\n",
       "      <td>8</td>\n",
       "      <td>39267</td>\n",
       "      <td>4.043051</td>\n",
       "      <td>0.693147</td>\n",
       "      <td>1</td>\n",
       "      <td>2</td>\n",
       "      <td>0</td>\n",
       "      <td>5</td>\n",
       "      <td>0</td>\n",
       "      <td>False</td>\n",
       "      <td>False</td>\n",
       "      <td>False</td>\n",
       "      <td>False</td>\n",
       "      <td>False</td>\n",
       "      <td>1</td>\n",
       "    </tr>\n",
       "    <tr>\n",
       "      <th>75092</th>\n",
       "      <td>222122448</td>\n",
       "      <td>6.255750</td>\n",
       "      <td>0.000000</td>\n",
       "      <td>0.000000</td>\n",
       "      <td>8</td>\n",
       "      <td>218975</td>\n",
       "      <td>5.176150</td>\n",
       "      <td>0.000000</td>\n",
       "      <td>4</td>\n",
       "      <td>18</td>\n",
       "      <td>1</td>\n",
       "      <td>28</td>\n",
       "      <td>0</td>\n",
       "      <td>False</td>\n",
       "      <td>False</td>\n",
       "      <td>False</td>\n",
       "      <td>False</td>\n",
       "      <td>False</td>\n",
       "      <td>1</td>\n",
       "    </tr>\n",
       "    <tr>\n",
       "      <th>121297</th>\n",
       "      <td>239041368</td>\n",
       "      <td>0.000000</td>\n",
       "      <td>0.000000</td>\n",
       "      <td>0.000000</td>\n",
       "      <td>5</td>\n",
       "      <td>249044</td>\n",
       "      <td>0.000000</td>\n",
       "      <td>0.000000</td>\n",
       "      <td>10</td>\n",
       "      <td>40</td>\n",
       "      <td>3</td>\n",
       "      <td>1</td>\n",
       "      <td>0</td>\n",
       "      <td>True</td>\n",
       "      <td>False</td>\n",
       "      <td>False</td>\n",
       "      <td>False</td>\n",
       "      <td>False</td>\n",
       "      <td>0</td>\n",
       "    </tr>\n",
       "  </tbody>\n",
       "</table>\n",
       "</div>"
      ],
      "text/plain": [
       "          metric1    metric2   metric3   metric4  metric5  metric6   metric7  \\\n",
       "82676    80616240  10.234840  0.000000  5.159055       17   342856  0.000000   \n",
       "71766    85391744   0.000000  0.000000  0.000000       11   481762  0.000000   \n",
       "86092   193511720   0.000000  0.000000  0.000000       12   256774  0.000000   \n",
       "105521  146996384   6.089045  0.000000  0.693147       10   290027  0.000000   \n",
       "94182   224711536   0.000000  0.000000  0.000000        8   269682  0.000000   \n",
       "24361   136982608   0.000000  0.000000  0.000000       12   197046  0.000000   \n",
       "77560   123190616  11.039669  0.693147  2.302585        4   336709  0.000000   \n",
       "4873     48467332  11.078706  0.000000  6.735780        8    39267  4.043051   \n",
       "75092   222122448   6.255750  0.000000  0.000000        8   218975  5.176150   \n",
       "121297  239041368   0.000000  0.000000  0.000000        5   249044  0.000000   \n",
       "\n",
       "         metric9  month  week  day_of_week  day_of_month  is_weekend  \\\n",
       "82676   1.791759      5    21            0            18           0   \n",
       "71766   0.000000      4    16            5            18           1   \n",
       "86092   0.000000      5    22            3            28           0   \n",
       "105521  0.000000      7    30            3            23           0   \n",
       "94182   0.000000      6    25            5            20           1   \n",
       "24361   0.000000      1     5            5            31           1   \n",
       "77560   0.000000      5    19            0             4           0   \n",
       "4873    0.693147      1     2            0             5           0   \n",
       "75092   0.000000      4    18            1            28           0   \n",
       "121297  0.000000     10    40            3             1           0   \n",
       "\n",
       "        device_model_S1F1  device_model_W1F0  device_model_W1F1  \\\n",
       "82676               False               True              False   \n",
       "71766               False              False              False   \n",
       "86092               False              False              False   \n",
       "105521              False              False              False   \n",
       "94182               False              False              False   \n",
       "24361               False              False              False   \n",
       "77560               False              False              False   \n",
       "4873                False              False              False   \n",
       "75092               False              False              False   \n",
       "121297               True              False              False   \n",
       "\n",
       "        device_model_Z1F0  device_model_Z1F1  failure  \n",
       "82676               False              False        1  \n",
       "71766                True              False        0  \n",
       "86092               False              False        1  \n",
       "105521              False              False        1  \n",
       "94182               False              False        0  \n",
       "24361               False              False        0  \n",
       "77560               False               True        1  \n",
       "4873                False              False        1  \n",
       "75092               False              False        1  \n",
       "121297              False              False        0  "
      ]
     },
     "execution_count": 33,
     "metadata": {},
     "output_type": "execute_result"
    }
   ],
   "source": [
    "\n",
    "# Display a random sample of 10 rows from the under-sampled dataset\n",
    "under_sample.sample(10)"
   ]
  },
  {
   "cell_type": "code",
   "execution_count": 34,
   "id": "8c5a76c5",
   "metadata": {
    "execution": {
     "iopub.execute_input": "2023-12-05T09:06:35.463892Z",
     "iopub.status.busy": "2023-12-05T09:06:35.462997Z",
     "iopub.status.idle": "2023-12-05T09:06:35.741879Z",
     "shell.execute_reply": "2023-12-05T09:06:35.740668Z"
    },
    "papermill": {
     "duration": 0.436379,
     "end_time": "2023-12-05T09:06:35.744536",
     "exception": false,
     "start_time": "2023-12-05T09:06:35.308157",
     "status": "completed"
    },
    "tags": []
   },
   "outputs": [
    {
     "data": {
      "text/plain": [
       "Text(0.5, 1.0, \"Distribution of 'failure'\")"
      ]
     },
     "execution_count": 34,
     "metadata": {},
     "output_type": "execute_result"
    },
    {
     "data": {
      "image/png": "[encoded data removed]",
      "text/plain": [
       "<Figure size 432x288 with 1 Axes>"
      ]
     },
     "metadata": {
      "needs_background": "light"
     },
     "output_type": "display_data"
    }
   ],
   "source": [
    "\n",
    "# Create a countplot to visualize the distribution of 'failure' in the under-sampled dataset\n",
    "plt.figure(figsize=(6, 4))\n",
    "sns.countplot(data=under_sample, x='failure')\n",
    "plt.title(\"Distribution of 'failure'\")\n"
   ]
  },
  {
   "cell_type": "markdown",
   "id": "11f0516a",
   "metadata": {
    "papermill": {
     "duration": 0.153538,
     "end_time": "2023-12-05T09:06:36.049048",
     "exception": false,
     "start_time": "2023-12-05T09:06:35.895510",
     "status": "completed"
    },
    "tags": []
   },
   "source": [
    "As we can see it is equal now."
   ]
  },
  {
   "cell_type": "code",
   "execution_count": 35,
   "id": "e9b7e65c",
   "metadata": {
    "execution": {
     "iopub.execute_input": "2023-12-05T09:06:36.359621Z",
     "iopub.status.busy": "2023-12-05T09:06:36.358593Z",
     "iopub.status.idle": "2023-12-05T09:06:36.379814Z",
     "shell.execute_reply": "2023-12-05T09:06:36.378895Z"
    },
    "papermill": {
     "duration": 0.180542,
     "end_time": "2023-12-05T09:06:36.382547",
     "exception": false,
     "start_time": "2023-12-05T09:06:36.202005",
     "status": "completed"
    },
    "tags": []
   },
   "outputs": [],
   "source": [
    "# Import the necessary libraries for model evaluation\n",
    "from sklearn.model_selection import train_test_split\n",
    "from sklearn.preprocessing import StandardScaler\n",
    "\n",
    "# Create feature matrix 'X_norm' and target variable 'y_norm'\n",
    "X_norm = under_sample.drop(['failure'], axis=1)\n",
    "y_norm = under_sample['failure']\n",
    "\n",
    "# Split the data into training and testing sets\n",
    "x_train, x_test, y_train, y_test = train_test_split(X_norm, y_norm, test_size=0.2, random_state=42)\n",
    "\n",
    "# Standardize the features\n",
    "scaler = StandardScaler()\n",
    "x_train = scaler.fit_transform(x_train)\n",
    "x_test = scaler.transform(x_test)\n",
    "\n"
   ]
  },
  {
   "cell_type": "code",
   "execution_count": 36,
   "id": "b32f3ca2",
   "metadata": {
    "execution": {
     "iopub.execute_input": "2023-12-05T09:06:36.691137Z",
     "iopub.status.busy": "2023-12-05T09:06:36.690283Z",
     "iopub.status.idle": "2023-12-05T09:06:37.582705Z",
     "shell.execute_reply": "2023-12-05T09:06:37.580486Z"
    },
    "papermill": {
     "duration": 1.050309,
     "end_time": "2023-12-05T09:06:37.585751",
     "exception": false,
     "start_time": "2023-12-05T09:06:36.535442",
     "status": "completed"
    },
    "scrolled": true,
    "tags": []
   },
   "outputs": [],
   "source": [
    "\n",
    "# Import various classification algorithms and evaluation metrics\n",
    "from sklearn.naive_bayes import GaussianNB, BernoulliNB\n",
    "from sklearn.neighbors import KNeighborsClassifier\n",
    "from sklearn.svm import SVC\n",
    "from sklearn.tree import DecisionTreeClassifier\n",
    "from sklearn.linear_model import LogisticRegression, SGDClassifier\n",
    "from sklearn.ensemble import GradientBoostingClassifier, RandomForestClassifier, AdaBoostClassifier, ExtraTreesClassifier\n",
    "from sklearn.metrics import accuracy_score, precision_score, recall_score, f1_score\n",
    "\n",
    "# Define a function to evaluate multiple classifiers and return a DataFrame with metrics\n",
    "def evaluate_model(x_train, y_train, x_test, y_test):\n",
    "    # Define a list of classifiers\n",
    "    classifiers = [\n",
    "        GradientBoostingClassifier(),\n",
    "        RandomForestClassifier(),\n",
    "        AdaBoostClassifier(),\n",
    "        ExtraTreesClassifier(),\n",
    "        DecisionTreeClassifier(),\n",
    "        KNeighborsClassifier(),\n",
    "        GaussianNB(),\n",
    "        BernoulliNB(),\n",
    "        SVC(),\n",
    "        LogisticRegression(),\n",
    "        SGDClassifier(),\n",
    "    ]\n",
    "\n",
    "    # Define the names of classifiers\n",
    "    classifier_names = [\n",
    "        'GradientBoost',\n",
    "        'RandomForest',\n",
    "        'AdaBoost',\n",
    "        'ExtraTrees',\n",
    "        'DecisionTree',\n",
    "        'KNeighbors',\n",
    "        'GaussianNB',\n",
    "        'BernoulliNB',\n",
    "        'SVC',\n",
    "        'LogisticRegression',\n",
    "        'SGD',\n",
    "    ]\n",
    "\n",
    "    # Create an empty DataFrame for metrics\n",
    "    metrics = pd.DataFrame(columns=['Accuracy', 'Precision', 'Recall', 'F1'], index=classifier_names)\n",
    "\n",
    "    # Evaluate each classifier and store the metrics\n",
    "    for i, clf in enumerate(classifiers):\n",
    "        clf.fit(x_train, y_train)\n",
    "        y_pred = clf.predict(x_test)\n",
    "\n",
    "        accuracy = accuracy_score(y_test, y_pred)\n",
    "        precision = precision_score(y_test, y_pred)\n",
    "        recall = recall_score(y_test, y_pred)\n",
    "        f1 = f1_score(y_test, y_pred)\n",
    "\n",
    "        metrics.loc[classifier_names[i], 'Accuracy'] = accuracy\n",
    "        metrics.loc[classifier_names[i], 'Precision'] = precision\n",
    "        metrics.loc[classifier_names[i], 'Recall'] = recall\n",
    "        metrics.loc[classifier_names[i], 'F1'] = f1\n",
    "\n",
    "    # Sort the metrics by accuracy in descending order\n",
    "    metrics = metrics.sort_values(by='Accuracy', ascending=False)\n",
    "\n",
    "    return metrics\n",
    "\n",
    "# Step 4: Evaluate models\n",
    "metrics = evaluate_model(x_train, y_train, x_test, y_test)"
   ]
  },
  {
   "cell_type": "code",
   "execution_count": 37,
   "id": "9b29d8f5",
   "metadata": {
    "execution": {
     "iopub.execute_input": "2023-12-05T09:06:37.895514Z",
     "iopub.status.busy": "2023-12-05T09:06:37.894860Z",
     "iopub.status.idle": "2023-12-05T09:06:37.909438Z",
     "shell.execute_reply": "2023-12-05T09:06:37.908195Z"
    },
    "papermill": {
     "duration": 0.174111,
     "end_time": "2023-12-05T09:06:37.912242",
     "exception": false,
     "start_time": "2023-12-05T09:06:37.738131",
     "status": "completed"
    },
    "tags": []
   },
   "outputs": [
    {
     "data": {
      "text/html": [
       "<div>\n",
       "<style scoped>\n",
       "    .dataframe tbody tr th:only-of-type {\n",
       "        vertical-align: middle;\n",
       "    }\n",
       "\n",
       "    .dataframe tbody tr th {\n",
       "        vertical-align: top;\n",
       "    }\n",
       "\n",
       "    .dataframe thead th {\n",
       "        text-align: right;\n",
       "    }\n",
       "</style>\n",
       "<table border=\"1\" class=\"dataframe\">\n",
       "  <thead>\n",
       "    <tr style=\"text-align: right;\">\n",
       "      <th></th>\n",
       "      <th>Accuracy</th>\n",
       "      <th>Precision</th>\n",
       "      <th>Recall</th>\n",
       "      <th>F1</th>\n",
       "    </tr>\n",
       "  </thead>\n",
       "  <tbody>\n",
       "    <tr>\n",
       "      <th>SVC</th>\n",
       "      <td>0.883721</td>\n",
       "      <td>1.0</td>\n",
       "      <td>0.791667</td>\n",
       "      <td>0.883721</td>\n",
       "    </tr>\n",
       "    <tr>\n",
       "      <th>GradientBoost</th>\n",
       "      <td>0.860465</td>\n",
       "      <td>0.909091</td>\n",
       "      <td>0.833333</td>\n",
       "      <td>0.869565</td>\n",
       "    </tr>\n",
       "    <tr>\n",
       "      <th>RandomForest</th>\n",
       "      <td>0.860465</td>\n",
       "      <td>0.909091</td>\n",
       "      <td>0.833333</td>\n",
       "      <td>0.869565</td>\n",
       "    </tr>\n",
       "    <tr>\n",
       "      <th>AdaBoost</th>\n",
       "      <td>0.860465</td>\n",
       "      <td>0.875</td>\n",
       "      <td>0.875</td>\n",
       "      <td>0.875</td>\n",
       "    </tr>\n",
       "    <tr>\n",
       "      <th>ExtraTrees</th>\n",
       "      <td>0.860465</td>\n",
       "      <td>0.875</td>\n",
       "      <td>0.875</td>\n",
       "      <td>0.875</td>\n",
       "    </tr>\n",
       "    <tr>\n",
       "      <th>GaussianNB</th>\n",
       "      <td>0.860465</td>\n",
       "      <td>0.95</td>\n",
       "      <td>0.791667</td>\n",
       "      <td>0.863636</td>\n",
       "    </tr>\n",
       "    <tr>\n",
       "      <th>LogisticRegression</th>\n",
       "      <td>0.837209</td>\n",
       "      <td>0.947368</td>\n",
       "      <td>0.75</td>\n",
       "      <td>0.837209</td>\n",
       "    </tr>\n",
       "    <tr>\n",
       "      <th>BernoulliNB</th>\n",
       "      <td>0.813953</td>\n",
       "      <td>0.9</td>\n",
       "      <td>0.75</td>\n",
       "      <td>0.818182</td>\n",
       "    </tr>\n",
       "    <tr>\n",
       "      <th>SGD</th>\n",
       "      <td>0.790698</td>\n",
       "      <td>0.8</td>\n",
       "      <td>0.833333</td>\n",
       "      <td>0.816327</td>\n",
       "    </tr>\n",
       "    <tr>\n",
       "      <th>KNeighbors</th>\n",
       "      <td>0.767442</td>\n",
       "      <td>0.9375</td>\n",
       "      <td>0.625</td>\n",
       "      <td>0.75</td>\n",
       "    </tr>\n",
       "    <tr>\n",
       "      <th>DecisionTree</th>\n",
       "      <td>0.744186</td>\n",
       "      <td>0.782609</td>\n",
       "      <td>0.75</td>\n",
       "      <td>0.765957</td>\n",
       "    </tr>\n",
       "  </tbody>\n",
       "</table>\n",
       "</div>"
      ],
      "text/plain": [
       "                    Accuracy Precision    Recall        F1\n",
       "SVC                 0.883721       1.0  0.791667  0.883721\n",
       "GradientBoost       0.860465  0.909091  0.833333  0.869565\n",
       "RandomForest        0.860465  0.909091  0.833333  0.869565\n",
       "AdaBoost            0.860465     0.875     0.875     0.875\n",
       "ExtraTrees          0.860465     0.875     0.875     0.875\n",
       "GaussianNB          0.860465      0.95  0.791667  0.863636\n",
       "LogisticRegression  0.837209  0.947368      0.75  0.837209\n",
       "BernoulliNB         0.813953       0.9      0.75  0.818182\n",
       "SGD                 0.790698       0.8  0.833333  0.816327\n",
       "KNeighbors          0.767442    0.9375     0.625      0.75\n",
       "DecisionTree        0.744186  0.782609      0.75  0.765957"
      ]
     },
     "execution_count": 37,
     "metadata": {},
     "output_type": "execute_result"
    }
   ],
   "source": [
    "metrics"
   ]
  },
  {
   "cell_type": "markdown",
   "id": "dbc0ab44",
   "metadata": {
    "papermill": {
     "duration": 0.155545,
     "end_time": "2023-12-05T09:06:38.222064",
     "exception": false,
     "start_time": "2023-12-05T09:06:38.066519",
     "status": "completed"
    },
    "tags": []
   },
   "source": [
    "I will search hyper parameters for only  models which is around 65 F1 score"
   ]
  },
  {
   "cell_type": "code",
   "execution_count": 38,
   "id": "f9ebe144",
   "metadata": {
    "execution": {
     "iopub.execute_input": "2023-12-05T09:06:38.548554Z",
     "iopub.status.busy": "2023-12-05T09:06:38.547332Z",
     "iopub.status.idle": "2023-12-05T09:06:38.553462Z",
     "shell.execute_reply": "2023-12-05T09:06:38.552378Z"
    },
    "papermill": {
     "duration": 0.176239,
     "end_time": "2023-12-05T09:06:38.555886",
     "exception": false,
     "start_time": "2023-12-05T09:06:38.379647",
     "status": "completed"
    },
    "tags": []
   },
   "outputs": [],
   "source": [
    "#pip install optuna"
   ]
  },
  {
   "cell_type": "code",
   "execution_count": 39,
   "id": "ed5c5a37",
   "metadata": {
    "execution": {
     "iopub.execute_input": "2023-12-05T09:06:38.879414Z",
     "iopub.status.busy": "2023-12-05T09:06:38.878610Z",
     "iopub.status.idle": "2023-12-05T09:06:40.522142Z",
     "shell.execute_reply": "2023-12-05T09:06:40.520900Z"
    },
    "papermill": {
     "duration": 1.807604,
     "end_time": "2023-12-05T09:06:40.525662",
     "exception": false,
     "start_time": "2023-12-05T09:06:38.718058",
     "status": "completed"
    },
    "tags": []
   },
   "outputs": [],
   "source": [
    "import optuna"
   ]
  },
  {
   "cell_type": "markdown",
   "id": "9d355dbe",
   "metadata": {
    "papermill": {
     "duration": 0.155266,
     "end_time": "2023-12-05T09:06:40.842426",
     "exception": false,
     "start_time": "2023-12-05T09:06:40.687160",
     "status": "completed"
    },
    "tags": []
   },
   "source": [
    "# GradientBoosting"
   ]
  },
  {
   "cell_type": "code",
   "execution_count": 40,
   "id": "e512b8df",
   "metadata": {
    "execution": {
     "iopub.execute_input": "2023-12-05T09:06:41.153038Z",
     "iopub.status.busy": "2023-12-05T09:06:41.151977Z",
     "iopub.status.idle": "2023-12-05T09:06:41.160941Z",
     "shell.execute_reply": "2023-12-05T09:06:41.159616Z"
    },
    "papermill": {
     "duration": 0.165597,
     "end_time": "2023-12-05T09:06:41.163607",
     "exception": false,
     "start_time": "2023-12-05T09:06:40.998010",
     "status": "completed"
    },
    "tags": []
   },
   "outputs": [],
   "source": [
    "def objective_gb(trial):\n",
    "    # Define hyperparameters to optimize\n",
    "    params = {\n",
    "        'n_estimators': trial.suggest_int('n_estimators', 50, 500),\n",
    "        'learning_rate': trial.suggest_uniform('learning_rate', 0.01, 0.3),\n",
    "        'max_depth': trial.suggest_int('max_depth', 3, 8),\n",
    "        'min_samples_split': trial.suggest_float('min_samples_split', 0.1, 1.0),\n",
    "    }\n",
    "\n",
    "    # Initialize the classifier with hyperparameters\n",
    "    clf = GradientBoostingClassifier(**params, random_state=42)\n",
    "\n",
    "    # Train the classifier on the training data\n",
    "    clf.fit(x_train, y_train)\n",
    "    \n",
    "    # Make predictions on the test data\n",
    "    y_pred = clf.predict(x_test)\n",
    "\n",
    "    # Calculate F1 score as the objective to maximize\n",
    "    f1 = f1_score(y_test, y_pred)\n",
    "\n",
    "    return f1"
   ]
  },
  {
   "cell_type": "code",
   "execution_count": 41,
   "id": "ebd8cdfb",
   "metadata": {
    "execution": {
     "iopub.execute_input": "2023-12-05T09:06:41.473539Z",
     "iopub.status.busy": "2023-12-05T09:06:41.472862Z",
     "iopub.status.idle": "2023-12-05T09:06:41.480634Z",
     "shell.execute_reply": "2023-12-05T09:06:41.479601Z"
    },
    "papermill": {
     "duration": 0.166862,
     "end_time": "2023-12-05T09:06:41.483882",
     "exception": false,
     "start_time": "2023-12-05T09:06:41.317020",
     "status": "completed"
    },
    "tags": []
   },
   "outputs": [],
   "source": [
    "def create_study(objective):\n",
    "    # Create an Optuna study\n",
    "\n",
    "    # Set logging level to WARNING to suppress unnecessary output\n",
    "    optuna.logging.set_verbosity(optuna.logging.WARNING)\n",
    "    study = optuna.create_study(direction='maximize')  # We want to maximize accuracy\n",
    "\n",
    "    # Run the optimization\n",
    "    study.optimize(objective, n_trials=100)  # You can adjust the number of trials\n",
    "\n",
    "    # Get the best hyperparameters from the study\n",
    "    best_params = study.best_params\n",
    "    best_f1 = study.best_value\n",
    "    print(f'Best hyperparameters: {best_params}')\n",
    "    print(f'Best f1 score: {best_f1}')\n",
    "    return best_params"
   ]
  },
  {
   "cell_type": "code",
   "execution_count": 42,
   "id": "11ad40e6",
   "metadata": {
    "execution": {
     "iopub.execute_input": "2023-12-05T09:06:41.795081Z",
     "iopub.status.busy": "2023-12-05T09:06:41.793987Z",
     "iopub.status.idle": "2023-12-05T09:07:20.633549Z",
     "shell.execute_reply": "2023-12-05T09:07:20.632267Z"
    },
    "papermill": {
     "duration": 38.997827,
     "end_time": "2023-12-05T09:07:20.636972",
     "exception": false,
     "start_time": "2023-12-05T09:06:41.639145",
     "status": "completed"
    },
    "tags": []
   },
   "outputs": [
    {
     "name": "stdout",
     "output_type": "stream",
     "text": [
      "Best hyperparameters: {'n_estimators': 243, 'learning_rate': 0.20509106113878098, 'max_depth': 3, 'min_samples_split': 0.3883017250574133}\n",
      "Best f1 score: 0.8979591836734694\n"
     ]
    }
   ],
   "source": [
    "best_params=create_study(objective_gb)\n",
    "best_gb = GradientBoostingClassifier(**best_params, random_state=42)\n",
    "y_pred_gb=best_gb.fit(x_train, y_train).predict(x_test)\n"
   ]
  },
  {
   "cell_type": "markdown",
   "id": "820fccad",
   "metadata": {
    "papermill": {
     "duration": 0.153192,
     "end_time": "2023-12-05T09:07:20.945133",
     "exception": false,
     "start_time": "2023-12-05T09:07:20.791941",
     "status": "completed"
    },
    "tags": []
   },
   "source": [
    "# RandomForest"
   ]
  },
  {
   "cell_type": "code",
   "execution_count": 43,
   "id": "663eb731",
   "metadata": {
    "execution": {
     "iopub.execute_input": "2023-12-05T09:07:21.252794Z",
     "iopub.status.busy": "2023-12-05T09:07:21.252386Z",
     "iopub.status.idle": "2023-12-05T09:07:21.261061Z",
     "shell.execute_reply": "2023-12-05T09:07:21.259856Z"
    },
    "papermill": {
     "duration": 0.166406,
     "end_time": "2023-12-05T09:07:21.263687",
     "exception": false,
     "start_time": "2023-12-05T09:07:21.097281",
     "status": "completed"
    },
    "tags": []
   },
   "outputs": [],
   "source": [
    "def objective_rf(trial):\n",
    "    # Define the hyperparameters to optimize\n",
    "    n_estimators = trial.suggest_int('n_estimators', 10, 150)\n",
    "    max_depth = trial.suggest_int('max_depth', 2, 32)\n",
    "    min_samples_split = trial.suggest_uniform('min_samples_split', 0.1, 1.0)\n",
    "    min_samples_leaf = trial.suggest_uniform('min_samples_leaf', 0.1, 0.5)\n",
    "    max_features = trial.suggest_categorical('max_features', ['log2', 'sqrt'])  # Only suggest valid options\n",
    "    \n",
    "    # Create and train the RandomForestClassifier with the suggested hyperparameters\n",
    "    clf = RandomForestClassifier(\n",
    "        n_estimators=n_estimators,\n",
    "        max_depth=max_depth,\n",
    "        min_samples_split=min_samples_split,\n",
    "        min_samples_leaf=min_samples_leaf,\n",
    "        max_features=max_features,\n",
    "        random_state=42\n",
    "    )\n",
    "    \n",
    "    # Train the classifier on the training data\n",
    "    clf.fit(x_train, y_train)\n",
    "    \n",
    "    # Make predictions on the test data\n",
    "    y_pred = clf.predict(x_test)\n",
    "\n",
    "    # Calculate F1 score as the objective to maximize\n",
    "    f1 = f1_score(y_test, y_pred)\n",
    "\n",
    "    return f1"
   ]
  },
  {
   "cell_type": "code",
   "execution_count": 44,
   "id": "59c6c8ec",
   "metadata": {
    "execution": {
     "iopub.execute_input": "2023-12-05T09:07:21.572146Z",
     "iopub.status.busy": "2023-12-05T09:07:21.571307Z",
     "iopub.status.idle": "2023-12-05T09:07:34.107024Z",
     "shell.execute_reply": "2023-12-05T09:07:34.106148Z"
    },
    "papermill": {
     "duration": 12.693005,
     "end_time": "2023-12-05T09:07:34.109469",
     "exception": false,
     "start_time": "2023-12-05T09:07:21.416464",
     "status": "completed"
    },
    "tags": []
   },
   "outputs": [
    {
     "name": "stdout",
     "output_type": "stream",
     "text": [
      "Best hyperparameters: {'n_estimators': 131, 'max_depth': 23, 'min_samples_split': 0.1833847794795304, 'min_samples_leaf': 0.10052419695023015, 'max_features': 'log2'}\n",
      "Best f1 score: 0.8695652173913043\n"
     ]
    }
   ],
   "source": [
    "best_params=create_study(objective_rf)\n",
    "best_rf = RandomForestClassifier(**best_params, random_state=42)\n",
    "y_pred_rf=best_rf.fit(x_train, y_train).predict(x_test)\n"
   ]
  },
  {
   "cell_type": "markdown",
   "id": "1daa45b2",
   "metadata": {
    "papermill": {
     "duration": 0.152416,
     "end_time": "2023-12-05T09:07:34.418578",
     "exception": false,
     "start_time": "2023-12-05T09:07:34.266162",
     "status": "completed"
    },
    "tags": []
   },
   "source": [
    "# AdaBoost"
   ]
  },
  {
   "cell_type": "code",
   "execution_count": 45,
   "id": "f03ac195",
   "metadata": {
    "execution": {
     "iopub.execute_input": "2023-12-05T09:07:34.731387Z",
     "iopub.status.busy": "2023-12-05T09:07:34.730642Z",
     "iopub.status.idle": "2023-12-05T09:07:34.737984Z",
     "shell.execute_reply": "2023-12-05T09:07:34.736891Z"
    },
    "papermill": {
     "duration": 0.167333,
     "end_time": "2023-12-05T09:07:34.740709",
     "exception": false,
     "start_time": "2023-12-05T09:07:34.573376",
     "status": "completed"
    },
    "tags": []
   },
   "outputs": [],
   "source": [
    "# Define the objective function for Optuna\n",
    "def objective_ab(trial):\n",
    "    # Define the hyperparameters to optimize\n",
    "    n_estimators = trial.suggest_int(\"n_estimators\", 50, 200)  # Number of weak learners\n",
    "    learning_rate = trial.suggest_float(\"learning_rate\", 0.01, 1.0)  # Learning rate\n",
    "    algorithm = trial.suggest_categorical(\"algorithm\", [\"SAMME\"])  # AdaBoost algorithm\n",
    "\n",
    "    # Create an AdaBoostClassifier with the suggested hyperparameters\n",
    "    model = AdaBoostClassifier(\n",
    "        n_estimators=n_estimators,\n",
    "        learning_rate=learning_rate,\n",
    "        algorithm=algorithm,\n",
    "        random_state=42\n",
    "    )\n",
    "\n",
    "    # Train the model\n",
    "    model.fit(x_train, y_train)\n",
    "\n",
    "    # Make predictions on the validation set\n",
    "    y_pred = model.predict(x_test)\n",
    "\n",
    "    # Calculate F1 score as the objective to maximize\n",
    "    f1 = f1_score(y_test, y_pred)\n",
    "\n",
    "    return f1"
   ]
  },
  {
   "cell_type": "code",
   "execution_count": 46,
   "id": "b4775f4a",
   "metadata": {
    "execution": {
     "iopub.execute_input": "2023-12-05T09:07:35.052571Z",
     "iopub.status.busy": "2023-12-05T09:07:35.051701Z",
     "iopub.status.idle": "2023-12-05T09:08:10.019917Z",
     "shell.execute_reply": "2023-12-05T09:08:10.018626Z"
    },
    "papermill": {
     "duration": 35.246624,
     "end_time": "2023-12-05T09:08:10.141249",
     "exception": false,
     "start_time": "2023-12-05T09:07:34.894625",
     "status": "completed"
    },
    "scrolled": true,
    "tags": []
   },
   "outputs": [
    {
     "name": "stdout",
     "output_type": "stream",
     "text": [
      "Best hyperparameters: {'n_estimators': 182, 'learning_rate': 0.5777975245223069, 'algorithm': 'SAMME'}\n",
      "Best f1 score: 0.8695652173913043\n"
     ]
    }
   ],
   "source": [
    "best_params=create_study(objective_ab)\n",
    "best_ab = AdaBoostClassifier(**best_params, random_state=42)\n",
    "y_pred_ab=best_ab.fit(x_train, y_train).predict(x_test)\n"
   ]
  },
  {
   "cell_type": "markdown",
   "id": "9475304d",
   "metadata": {
    "papermill": {
     "duration": 0.157278,
     "end_time": "2023-12-05T09:08:10.456649",
     "exception": false,
     "start_time": "2023-12-05T09:08:10.299371",
     "status": "completed"
    },
    "tags": []
   },
   "source": [
    "# ExtraTrees"
   ]
  },
  {
   "cell_type": "code",
   "execution_count": 47,
   "id": "b9bd7c02",
   "metadata": {
    "execution": {
     "iopub.execute_input": "2023-12-05T09:08:10.768917Z",
     "iopub.status.busy": "2023-12-05T09:08:10.768243Z",
     "iopub.status.idle": "2023-12-05T09:08:10.777795Z",
     "shell.execute_reply": "2023-12-05T09:08:10.776551Z"
    },
    "papermill": {
     "duration": 0.168471,
     "end_time": "2023-12-05T09:08:10.780359",
     "exception": false,
     "start_time": "2023-12-05T09:08:10.611888",
     "status": "completed"
    },
    "tags": []
   },
   "outputs": [],
   "source": [
    "import optuna\n",
    "import numpy as np\n",
    "from sklearn.ensemble import ExtraTreesClassifier\n",
    "from sklearn.metrics import accuracy_score\n",
    "\n",
    "def objective_etc(trial):\n",
    "    # Define the hyperparameters to optimize\n",
    "    n_estimators = trial.suggest_int(\"n_estimators\", 100, 1000)\n",
    "    max_depth = trial.suggest_int(\"max_depth\", 1, 32)\n",
    "    min_samples_split = trial.suggest_float(\"min_samples_split\", 0.1, 1.0)\n",
    "    min_samples_leaf = trial.suggest_float(\"min_samples_leaf\", 0.1, 0.5)\n",
    "\n",
    "    # Create an ExtraTrees classifier with the suggested hyperparameters\n",
    "    clf = ExtraTreesClassifier(\n",
    "        n_estimators=n_estimators,\n",
    "        max_depth=max_depth,\n",
    "        min_samples_split=min_samples_split,\n",
    "        min_samples_leaf=min_samples_leaf,\n",
    "        random_state=42  # You can set a random seed for reproducibility\n",
    "    )\n",
    "\n",
    "    # Fit the classifier on the training data\n",
    "    clf.fit(x_train, y_train)\n",
    "\n",
    "    # Make predictions on the test data\n",
    "    y_pred = clf.predict(x_test)\n",
    "\n",
    "    # Calculate F1 score as the objective to maximize\n",
    "    f1 = f1_score(y_test, y_pred)\n",
    "\n",
    "    return f1\n",
    "\n"
   ]
  },
  {
   "cell_type": "code",
   "execution_count": 48,
   "id": "00d759e6",
   "metadata": {
    "execution": {
     "iopub.execute_input": "2023-12-05T09:08:11.097035Z",
     "iopub.status.busy": "2023-12-05T09:08:11.095536Z",
     "iopub.status.idle": "2023-12-05T09:09:23.810387Z",
     "shell.execute_reply": "2023-12-05T09:09:23.809034Z"
    },
    "papermill": {
     "duration": 72.876075,
     "end_time": "2023-12-05T09:09:23.813451",
     "exception": false,
     "start_time": "2023-12-05T09:08:10.937376",
     "status": "completed"
    },
    "tags": []
   },
   "outputs": [
    {
     "name": "stdout",
     "output_type": "stream",
     "text": [
      "Best hyperparameters: {'n_estimators': 492, 'max_depth': 11, 'min_samples_split': 0.5137616872890624, 'min_samples_leaf': 0.17049723499005945}\n",
      "Best f1 score: 0.8695652173913043\n"
     ]
    }
   ],
   "source": [
    "best_params=create_study(objective_etc)\n",
    "best_etc = ExtraTreesClassifier(**best_params, random_state=42)\n",
    "y_pred_etc=best_etc.fit(x_train, y_train).predict(x_test)\n"
   ]
  },
  {
   "cell_type": "markdown",
   "id": "704e1309",
   "metadata": {
    "papermill": {
     "duration": 0.159951,
     "end_time": "2023-12-05T09:09:24.132573",
     "exception": false,
     "start_time": "2023-12-05T09:09:23.972622",
     "status": "completed"
    },
    "tags": []
   },
   "source": [
    "# Decision Tree"
   ]
  },
  {
   "cell_type": "code",
   "execution_count": 49,
   "id": "ad2874fd",
   "metadata": {
    "execution": {
     "iopub.execute_input": "2023-12-05T09:09:24.454430Z",
     "iopub.status.busy": "2023-12-05T09:09:24.453624Z",
     "iopub.status.idle": "2023-12-05T09:09:24.462013Z",
     "shell.execute_reply": "2023-12-05T09:09:24.460610Z"
    },
    "papermill": {
     "duration": 0.173433,
     "end_time": "2023-12-05T09:09:24.465598",
     "exception": false,
     "start_time": "2023-12-05T09:09:24.292165",
     "status": "completed"
    },
    "tags": []
   },
   "outputs": [],
   "source": [
    "# Define the objective function to optimize\n",
    "def objective_dt(trial):\n",
    "    # Define hyperparameters to search and their respective ranges\n",
    "    criterion = trial.suggest_categorical('criterion', ['gini', 'entropy'])\n",
    "    max_depth = trial.suggest_int('max_depth', 2, 32, log=True)\n",
    "    min_samples_split = trial.suggest_uniform('min_samples_split', 0.1, 1.0)\n",
    "    min_samples_leaf = trial.suggest_uniform('min_samples_leaf', 0.1, 0.5)\n",
    "\n",
    "    # Create a DecisionTree classifier with the suggested hyperparameters\n",
    "    clf = DecisionTreeClassifier(\n",
    "        criterion=criterion,\n",
    "        max_depth=max_depth,\n",
    "        min_samples_split=min_samples_split,\n",
    "        min_samples_leaf=min_samples_leaf,\n",
    "        random_state=42  # Set a random state for reproducibility\n",
    "    )\n",
    "\n",
    "    # Fit the classifier on the training data\n",
    "    clf.fit(x_train, y_train)\n",
    "\n",
    "    # Make predictions on the test data\n",
    "    y_pred = clf.predict(x_test)\n",
    "\n",
    "    # Calculate F1 score as the objective to maximize\n",
    "    f1 = f1_score(y_test, y_pred)\n",
    "\n",
    "    return f1\n",
    "\n"
   ]
  },
  {
   "cell_type": "code",
   "execution_count": 50,
   "id": "dfdf50a7",
   "metadata": {
    "execution": {
     "iopub.execute_input": "2023-12-05T09:09:24.780186Z",
     "iopub.status.busy": "2023-12-05T09:09:24.779189Z",
     "iopub.status.idle": "2023-12-05T09:09:27.566527Z",
     "shell.execute_reply": "2023-12-05T09:09:27.565174Z"
    },
    "papermill": {
     "duration": 2.947012,
     "end_time": "2023-12-05T09:09:27.569429",
     "exception": false,
     "start_time": "2023-12-05T09:09:24.622417",
     "status": "completed"
    },
    "tags": []
   },
   "outputs": [
    {
     "name": "stdout",
     "output_type": "stream",
     "text": [
      "Best hyperparameters: {'criterion': 'gini', 'max_depth': 6, 'min_samples_split': 0.34618613588558694, 'min_samples_leaf': 0.34970224823821633}\n",
      "Best f1 score: 0.7017543859649122\n"
     ]
    }
   ],
   "source": [
    "best_params=create_study(objective_dt)\n",
    "best_dt = DecisionTreeClassifier(**best_params, random_state=42)\n",
    "y_pred_dt=best_dt.fit(x_train, y_train).predict(x_test)\n"
   ]
  },
  {
   "cell_type": "code",
   "execution_count": 51,
   "id": "d77cf65f",
   "metadata": {
    "execution": {
     "iopub.execute_input": "2023-12-05T09:09:27.884096Z",
     "iopub.status.busy": "2023-12-05T09:09:27.882806Z",
     "iopub.status.idle": "2023-12-05T09:09:28.235157Z",
     "shell.execute_reply": "2023-12-05T09:09:28.233928Z"
    },
    "papermill": {
     "duration": 0.51472,
     "end_time": "2023-12-05T09:09:28.237966",
     "exception": false,
     "start_time": "2023-12-05T09:09:27.723246",
     "status": "completed"
    },
    "tags": []
   },
   "outputs": [
    {
     "data": {
      "image/png": "[encoded data removed]",
      "text/plain": [
       "<Figure size 1440x720 with 1 Axes>"
      ]
     },
     "metadata": {
      "needs_background": "light"
     },
     "output_type": "display_data"
    }
   ],
   "source": [
    "from sklearn.tree import plot_tree\n",
    "import matplotlib.pyplot as plt\n",
    "\n",
    "# Plot the Decision Tree\n",
    "plt.figure(figsize=(20, 10))\n",
    "plot_tree(best_dt, feature_names=df.drop(\"failure\",axis=1).columns.to_list(), class_names=[\"Non-Failure\", \"Failure\"], filled=True, fontsize=10)\n",
    "plt.show()\n"
   ]
  },
  {
   "cell_type": "markdown",
   "id": "d4f70056",
   "metadata": {
    "papermill": {
     "duration": 0.155177,
     "end_time": "2023-12-05T09:09:28.563875",
     "exception": false,
     "start_time": "2023-12-05T09:09:28.408698",
     "status": "completed"
    },
    "tags": []
   },
   "source": [
    "# KNN"
   ]
  },
  {
   "cell_type": "code",
   "execution_count": 52,
   "id": "a8a00826",
   "metadata": {
    "execution": {
     "iopub.execute_input": "2023-12-05T09:09:28.877321Z",
     "iopub.status.busy": "2023-12-05T09:09:28.876046Z",
     "iopub.status.idle": "2023-12-05T09:09:28.884618Z",
     "shell.execute_reply": "2023-12-05T09:09:28.883619Z"
    },
    "papermill": {
     "duration": 0.167181,
     "end_time": "2023-12-05T09:09:28.887152",
     "exception": false,
     "start_time": "2023-12-05T09:09:28.719971",
     "status": "completed"
    },
    "tags": []
   },
   "outputs": [],
   "source": [
    "from sklearn.neighbors import KNeighborsClassifier\n",
    "from sklearn.metrics import accuracy_score, classification_report\n",
    "import optuna\n",
    "\n",
    "def objective_knn(trial):\n",
    "    # Define hyperparameters to optimize\n",
    "    params = {\n",
    "        'n_neighbors': trial.suggest_int('n_neighbors', 3, 20),\n",
    "        'weights': trial.suggest_categorical('weights', ['uniform', 'distance']),\n",
    "        'p': trial.suggest_int('p', 1, 2),  # p=1 for Manhattan distance, p=2 for Euclidean distance\n",
    "    }\n",
    "\n",
    "    # Initialize the classifier with hyperparameters\n",
    "    clf = KNeighborsClassifier(**params)\n",
    "\n",
    "    # Train the classifier on the training data\n",
    "    clf.fit(x_train, y_train)\n",
    "    \n",
    "    # Make predictions on the test data\n",
    "    y_pred = clf.predict(x_test)    \n",
    "\n",
    "    # Calculate F1 score as the objective to maximize\n",
    "    f1 = f1_score(y_test, y_pred)\n",
    "\n",
    "    return f1\n"
   ]
  },
  {
   "cell_type": "code",
   "execution_count": 53,
   "id": "994fc634",
   "metadata": {
    "execution": {
     "iopub.execute_input": "2023-12-05T09:09:29.198533Z",
     "iopub.status.busy": "2023-12-05T09:09:29.197441Z",
     "iopub.status.idle": "2023-12-05T09:09:31.992917Z",
     "shell.execute_reply": "2023-12-05T09:09:31.991950Z"
    },
    "papermill": {
     "duration": 2.954235,
     "end_time": "2023-12-05T09:09:31.996219",
     "exception": false,
     "start_time": "2023-12-05T09:09:29.041984",
     "status": "completed"
    },
    "tags": []
   },
   "outputs": [
    {
     "name": "stdout",
     "output_type": "stream",
     "text": [
      "Best hyperparameters: {'n_neighbors': 4, 'weights': 'distance', 'p': 2}\n",
      "Best f1 score: 0.7906976744186046\n"
     ]
    }
   ],
   "source": [
    "best_params=create_study(objective_knn)\n",
    "best_knn = KNeighborsClassifier(**best_params)\n",
    "y_pred_knn=best_knn.fit(x_train, y_train).predict(x_test)\n"
   ]
  },
  {
   "cell_type": "markdown",
   "id": "d7dd2169",
   "metadata": {
    "papermill": {
     "duration": 0.15946,
     "end_time": "2023-12-05T09:09:32.317263",
     "exception": false,
     "start_time": "2023-12-05T09:09:32.157803",
     "status": "completed"
    },
    "tags": []
   },
   "source": [
    "# GaussianNB"
   ]
  },
  {
   "cell_type": "code",
   "execution_count": 54,
   "id": "7834c8c8",
   "metadata": {
    "execution": {
     "iopub.execute_input": "2023-12-05T09:09:32.631393Z",
     "iopub.status.busy": "2023-12-05T09:09:32.630769Z",
     "iopub.status.idle": "2023-12-05T09:09:32.639346Z",
     "shell.execute_reply": "2023-12-05T09:09:32.638193Z"
    },
    "papermill": {
     "duration": 0.169083,
     "end_time": "2023-12-05T09:09:32.642185",
     "exception": false,
     "start_time": "2023-12-05T09:09:32.473102",
     "status": "completed"
    },
    "tags": []
   },
   "outputs": [],
   "source": [
    "best_gnb = GaussianNB()\n",
    "y_pred_gnb=best_gnb.fit(x_train, y_train).predict(x_test)\n"
   ]
  },
  {
   "cell_type": "markdown",
   "id": "5a828472",
   "metadata": {
    "papermill": {
     "duration": 0.155429,
     "end_time": "2023-12-05T09:09:32.951955",
     "exception": false,
     "start_time": "2023-12-05T09:09:32.796526",
     "status": "completed"
    },
    "tags": []
   },
   "source": [
    "# BernoulliNB"
   ]
  },
  {
   "cell_type": "code",
   "execution_count": 55,
   "id": "3bedcb60",
   "metadata": {
    "execution": {
     "iopub.execute_input": "2023-12-05T09:09:33.267327Z",
     "iopub.status.busy": "2023-12-05T09:09:33.266660Z",
     "iopub.status.idle": "2023-12-05T09:09:33.274005Z",
     "shell.execute_reply": "2023-12-05T09:09:33.272855Z"
    },
    "papermill": {
     "duration": 0.167642,
     "end_time": "2023-12-05T09:09:33.276472",
     "exception": false,
     "start_time": "2023-12-05T09:09:33.108830",
     "status": "completed"
    },
    "tags": []
   },
   "outputs": [],
   "source": [
    "def objective_bnb(trial):\n",
    "    # Define hyperparameters to optimize\n",
    "    params = {\n",
    "        'alpha': trial.suggest_loguniform('alpha', 1e-10, 1.0),\n",
    "        'binarize': trial.suggest_float('binarize', 0.0, 1.0),\n",
    "        'fit_prior': trial.suggest_categorical('fit_prior', [True, False]),\n",
    "    }\n",
    "\n",
    "    # Initialize the classifier with hyperparameters\n",
    "    clf = BernoulliNB(**params)\n",
    "\n",
    "    # Train the classifier on the training data\n",
    "    clf.fit(x_train, y_train)\n",
    "    \n",
    "    # Make predictions on the test data\n",
    "    y_pred = clf.predict(x_test)\n",
    "    \n",
    "\n",
    "    # Calculate F1 score as the objective to maximize\n",
    "    f1 = f1_score(y_test, y_pred)\n",
    "\n",
    "    return f1"
   ]
  },
  {
   "cell_type": "code",
   "execution_count": 56,
   "id": "fc692d83",
   "metadata": {
    "execution": {
     "iopub.execute_input": "2023-12-05T09:09:33.593853Z",
     "iopub.status.busy": "2023-12-05T09:09:33.593168Z",
     "iopub.status.idle": "2023-12-05T09:09:35.703765Z",
     "shell.execute_reply": "2023-12-05T09:09:35.701931Z"
    },
    "papermill": {
     "duration": 2.271127,
     "end_time": "2023-12-05T09:09:35.706603",
     "exception": false,
     "start_time": "2023-12-05T09:09:33.435476",
     "status": "completed"
    },
    "tags": []
   },
   "outputs": [
    {
     "name": "stdout",
     "output_type": "stream",
     "text": [
      "Best hyperparameters: {'alpha': 2.200285279294198e-05, 'binarize': 0.7935579004525813, 'fit_prior': False}\n",
      "Best f1 score: 0.8837209302325582\n"
     ]
    }
   ],
   "source": [
    "best_params=create_study(objective_bnb)\n",
    "best_bnb = BernoulliNB(**best_params)\n",
    "y_pred_bnb=best_bnb.fit(x_train, y_train).predict(x_test)\n"
   ]
  },
  {
   "cell_type": "markdown",
   "id": "089ca682",
   "metadata": {
    "papermill": {
     "duration": 0.152898,
     "end_time": "2023-12-05T09:09:36.013821",
     "exception": false,
     "start_time": "2023-12-05T09:09:35.860923",
     "status": "completed"
    },
    "tags": []
   },
   "source": [
    "# SVC"
   ]
  },
  {
   "cell_type": "code",
   "execution_count": 57,
   "id": "f4b9efc4",
   "metadata": {
    "execution": {
     "iopub.execute_input": "2023-12-05T09:09:36.325600Z",
     "iopub.status.busy": "2023-12-05T09:09:36.325196Z",
     "iopub.status.idle": "2023-12-05T09:09:36.334749Z",
     "shell.execute_reply": "2023-12-05T09:09:36.333349Z"
    },
    "papermill": {
     "duration": 0.169173,
     "end_time": "2023-12-05T09:09:36.337342",
     "exception": false,
     "start_time": "2023-12-05T09:09:36.168169",
     "status": "completed"
    },
    "tags": []
   },
   "outputs": [],
   "source": [
    "def objective_svc(trial):\n",
    "    # Define hyperparameters to optimize\n",
    "    params = {\n",
    "        'C': trial.suggest_loguniform('C', 1e-3, 1e3),\n",
    "        'kernel': trial.suggest_categorical('kernel', ['linear', 'poly', 'rbf', 'sigmoid']),\n",
    "        'degree': trial.suggest_int('degree', 2, 5) if trial.params['kernel'] == 'poly' else 1,\n",
    "        'gamma': trial.suggest_categorical('gamma', ['scale', 'auto']) if trial.params['kernel'] in ['rbf', 'poly', 'sigmoid'] else 'scale',\n",
    "    }\n",
    "\n",
    "    # Initialize the classifier with hyperparameters\n",
    "    clf = SVC(**params, random_state=42)\n",
    "\n",
    "    # Train the classifier on the training data\n",
    "    clf.fit(x_train, y_train)\n",
    "    \n",
    "    # Make predictions on the test data\n",
    "    y_pred = clf.predict(x_test)\n",
    "    \n",
    "    # Calculate F1 score as the objective to maximize\n",
    "    f1 = f1_score(y_test, y_pred)\n",
    "\n",
    "    return f1\n"
   ]
  },
  {
   "cell_type": "code",
   "execution_count": 58,
   "id": "61b55b03",
   "metadata": {
    "execution": {
     "iopub.execute_input": "2023-12-05T09:09:36.651590Z",
     "iopub.status.busy": "2023-12-05T09:09:36.650853Z",
     "iopub.status.idle": "2023-12-05T09:09:39.398367Z",
     "shell.execute_reply": "2023-12-05T09:09:39.397001Z"
    },
    "papermill": {
     "duration": 2.909804,
     "end_time": "2023-12-05T09:09:39.401417",
     "exception": false,
     "start_time": "2023-12-05T09:09:36.491613",
     "status": "completed"
    },
    "tags": []
   },
   "outputs": [
    {
     "name": "stdout",
     "output_type": "stream",
     "text": [
      "Best hyperparameters: {'C': 1.2441163404128472, 'kernel': 'rbf', 'gamma': 'scale'}\n",
      "Best f1 score: 0.8837209302325582\n"
     ]
    }
   ],
   "source": [
    "best_params=create_study(objective_svc)\n",
    "best_svc = SVC(**best_params)\n",
    "y_pred_svc=best_svc.fit(x_train, y_train).predict(x_test)\n"
   ]
  },
  {
   "cell_type": "markdown",
   "id": "11da121b",
   "metadata": {
    "papermill": {
     "duration": 0.156678,
     "end_time": "2023-12-05T09:09:39.715064",
     "exception": false,
     "start_time": "2023-12-05T09:09:39.558386",
     "status": "completed"
    },
    "tags": []
   },
   "source": [
    "# LogisticRegression"
   ]
  },
  {
   "cell_type": "code",
   "execution_count": 59,
   "id": "8b9a7f5b",
   "metadata": {
    "execution": {
     "iopub.execute_input": "2023-12-05T09:09:40.025993Z",
     "iopub.status.busy": "2023-12-05T09:09:40.025060Z",
     "iopub.status.idle": "2023-12-05T09:09:40.031710Z",
     "shell.execute_reply": "2023-12-05T09:09:40.030877Z"
    },
    "papermill": {
     "duration": 0.164709,
     "end_time": "2023-12-05T09:09:40.034065",
     "exception": false,
     "start_time": "2023-12-05T09:09:39.869356",
     "status": "completed"
    },
    "tags": []
   },
   "outputs": [],
   "source": [
    "def objective_lr(trial):\n",
    "    # Define hyperparameters to optimize\n",
    "    params = {\n",
    "        'C': trial.suggest_loguniform('C', 1e-5, 1e5),\n",
    "        'solver': trial.suggest_categorical('solver', ['liblinear', 'lbfgs']),\n",
    "    }\n",
    "\n",
    "    # Initialize the classifier with hyperparameters\n",
    "    clf = LogisticRegression(**params, random_state=42)\n",
    "\n",
    "    # Train the classifier on the training data\n",
    "    clf.fit(x_train, y_train)\n",
    "    \n",
    "    # Make predictions on the test data\n",
    "    y_pred = clf.predict(x_test)\n",
    "    \n",
    "    # Calculate F1 score as the objective to maximize\n",
    "    f1 = f1_score(y_test, y_pred)\n",
    "\n",
    "    return f1"
   ]
  },
  {
   "cell_type": "code",
   "execution_count": 60,
   "id": "25b173b9",
   "metadata": {
    "execution": {
     "iopub.execute_input": "2023-12-05T09:09:40.348130Z",
     "iopub.status.busy": "2023-12-05T09:09:40.347071Z",
     "iopub.status.idle": "2023-12-05T09:09:42.096010Z",
     "shell.execute_reply": "2023-12-05T09:09:42.094698Z"
    },
    "papermill": {
     "duration": 1.90964,
     "end_time": "2023-12-05T09:09:42.098690",
     "exception": false,
     "start_time": "2023-12-05T09:09:40.189050",
     "status": "completed"
    },
    "tags": []
   },
   "outputs": [
    {
     "name": "stdout",
     "output_type": "stream",
     "text": [
      "Best hyperparameters: {'C': 17.46298639293521, 'solver': 'liblinear'}\n",
      "Best f1 score: 0.8372093023255814\n"
     ]
    }
   ],
   "source": [
    "best_params=create_study(objective_lr)\n",
    "best_lr = LogisticRegression(**best_params)\n",
    "y_pred_lr=best_lr.fit(x_train, y_train).predict(x_test)\n"
   ]
  },
  {
   "cell_type": "markdown",
   "id": "808187b5",
   "metadata": {
    "papermill": {
     "duration": 0.161016,
     "end_time": "2023-12-05T09:09:42.422699",
     "exception": false,
     "start_time": "2023-12-05T09:09:42.261683",
     "status": "completed"
    },
    "tags": []
   },
   "source": [
    "# SGDClassifier"
   ]
  },
  {
   "cell_type": "code",
   "execution_count": 61,
   "id": "83775a1c",
   "metadata": {
    "execution": {
     "iopub.execute_input": "2023-12-05T09:09:42.747199Z",
     "iopub.status.busy": "2023-12-05T09:09:42.745829Z",
     "iopub.status.idle": "2023-12-05T09:09:42.754807Z",
     "shell.execute_reply": "2023-12-05T09:09:42.753792Z"
    },
    "papermill": {
     "duration": 0.177678,
     "end_time": "2023-12-05T09:09:42.757474",
     "exception": false,
     "start_time": "2023-12-05T09:09:42.579796",
     "status": "completed"
    },
    "tags": []
   },
   "outputs": [],
   "source": [
    "def objective_sgd(trial):\n",
    "    # Define hyperparameters to optimize\n",
    "    params = {\n",
    "        'loss': trial.suggest_categorical('loss', ['hinge', 'log_loss', 'modified_huber']),\n",
    "        'penalty': trial.suggest_categorical('penalty', ['l1', 'l2', 'elasticnet']),\n",
    "        'alpha': trial.suggest_loguniform('alpha', 1e-6, 1e-1),\n",
    "        'learning_rate': trial.suggest_categorical('learning_rate', ['constant', 'optimal', 'invscaling', 'adaptive']),\n",
    "        'eta0': trial.suggest_loguniform('eta0', 1e-5, 1e-1),\n",
    "    }\n",
    "\n",
    "    # Initialize the classifier with hyperparameters\n",
    "    clf = SGDClassifier(**params, random_state=42)\n",
    "\n",
    "    # Train the classifier on the training data\n",
    "    clf.fit(x_train, y_train)\n",
    "    \n",
    "    # Make predictions on the test data\n",
    "    y_pred = clf.predict(x_test)\n",
    "    \n",
    "    # Calculate F1 score as the objective to maximize\n",
    "    f1 = f1_score(y_test, y_pred)\n",
    "\n",
    "    return f1"
   ]
  },
  {
   "cell_type": "code",
   "execution_count": 62,
   "id": "48390a33",
   "metadata": {
    "execution": {
     "iopub.execute_input": "2023-12-05T09:09:43.080760Z",
     "iopub.status.busy": "2023-12-05T09:09:43.079967Z",
     "iopub.status.idle": "2023-12-05T09:09:45.579337Z",
     "shell.execute_reply": "2023-12-05T09:09:45.577842Z"
    },
    "papermill": {
     "duration": 2.665394,
     "end_time": "2023-12-05T09:09:45.582145",
     "exception": false,
     "start_time": "2023-12-05T09:09:42.916751",
     "status": "completed"
    },
    "tags": []
   },
   "outputs": [
    {
     "name": "stdout",
     "output_type": "stream",
     "text": [
      "Best hyperparameters: {'loss': 'hinge', 'penalty': 'l2', 'alpha': 2.2217995885932215e-06, 'learning_rate': 'invscaling', 'eta0': 2.8241536000608474e-05}\n",
      "Best f1 score: 0.8695652173913043\n"
     ]
    }
   ],
   "source": [
    "best_params=create_study(objective_sgd)\n",
    "best_sgd = SGDClassifier(**best_params)\n",
    "y_pred_sgd=best_sgd.fit(x_train, y_train).predict(x_test)\n"
   ]
  },
  {
   "cell_type": "markdown",
   "id": "7dcfd88c",
   "metadata": {
    "execution": {
     "iopub.execute_input": "2023-12-05T08:20:41.115840Z",
     "iopub.status.busy": "2023-12-05T08:20:41.115557Z",
     "iopub.status.idle": "2023-12-05T08:20:41.119489Z",
     "shell.execute_reply": "2023-12-05T08:20:41.118790Z",
     "shell.execute_reply.started": "2023-12-05T08:20:41.115818Z"
    },
    "papermill": {
     "duration": 0.157534,
     "end_time": "2023-12-05T09:09:45.899323",
     "exception": false,
     "start_time": "2023-12-05T09:09:45.741789",
     "status": "completed"
    },
    "tags": []
   },
   "source": [
    "# Voting Classifier"
   ]
  },
  {
   "cell_type": "code",
   "execution_count": 63,
   "id": "5be7589a",
   "metadata": {
    "execution": {
     "iopub.execute_input": "2023-12-05T09:09:46.217412Z",
     "iopub.status.busy": "2023-12-05T09:09:46.216554Z",
     "iopub.status.idle": "2023-12-05T09:09:46.221543Z",
     "shell.execute_reply": "2023-12-05T09:09:46.220505Z"
    },
    "papermill": {
     "duration": 0.166539,
     "end_time": "2023-12-05T09:09:46.223997",
     "exception": false,
     "start_time": "2023-12-05T09:09:46.057458",
     "status": "completed"
    },
    "tags": []
   },
   "outputs": [],
   "source": [
    "from sklearn.ensemble import VotingClassifier\n"
   ]
  },
  {
   "cell_type": "code",
   "execution_count": 64,
   "id": "0c87bec8",
   "metadata": {
    "execution": {
     "iopub.execute_input": "2023-12-05T09:09:46.536878Z",
     "iopub.status.busy": "2023-12-05T09:09:46.535917Z",
     "iopub.status.idle": "2023-12-05T09:09:47.888833Z",
     "shell.execute_reply": "2023-12-05T09:09:47.887878Z"
    },
    "papermill": {
     "duration": 1.512601,
     "end_time": "2023-12-05T09:09:47.892244",
     "exception": false,
     "start_time": "2023-12-05T09:09:46.379643",
     "status": "completed"
    },
    "tags": []
   },
   "outputs": [],
   "source": [
    "# Create a Voting Classifier\n",
    "voting_clf = VotingClassifier(estimators=[('gb', best_gb), ('rf', best_rf), ('ab', best_ab), ('etc', best_etc), ('dt', best_dt), ('knn', best_knn), ('gnb', best_gnb), ('bnb', best_bnb), ('svc', best_svc), ('lr', best_lr), ('sgd', best_sgd)], voting='hard')\n",
    "\n",
    "# Train the Voting Classifier on the training data\n",
    "voting_clf.fit(x_train, y_train)\n",
    "\n",
    "# Make predictions on the test data\n",
    "y_pred_vh = voting_clf.predict(x_test)"
   ]
  },
  {
   "cell_type": "markdown",
   "id": "670a3aaa",
   "metadata": {
    "papermill": {
     "duration": 0.154122,
     "end_time": "2023-12-05T09:09:48.201727",
     "exception": false,
     "start_time": "2023-12-05T09:09:48.047605",
     "status": "completed"
    },
    "tags": []
   },
   "source": [
    "## Comparing Models"
   ]
  },
  {
   "cell_type": "code",
   "execution_count": 65,
   "id": "a62643e6",
   "metadata": {
    "execution": {
     "iopub.execute_input": "2023-12-05T09:09:48.513492Z",
     "iopub.status.busy": "2023-12-05T09:09:48.513084Z",
     "iopub.status.idle": "2023-12-05T09:09:53.738876Z",
     "shell.execute_reply": "2023-12-05T09:09:53.737673Z"
    },
    "papermill": {
     "duration": 5.388749,
     "end_time": "2023-12-05T09:09:53.745566",
     "exception": false,
     "start_time": "2023-12-05T09:09:48.356817",
     "status": "completed"
    },
    "tags": []
   },
   "outputs": [
    {
     "name": "stdout",
     "output_type": "stream",
     "text": [
      "\n",
      "Model: Model Gradient Boosting\n",
      "Precision: 0.8800\n",
      "Recall: 0.9167\n",
      "F1 Score: 0.8980\n",
      "Accuracy: 0.8837\n",
      "\n",
      "Model: Model Random Forest\n",
      "Precision: 0.9091\n",
      "Recall: 0.8333\n",
      "F1 Score: 0.8696\n",
      "Accuracy: 0.8605\n",
      "\n",
      "Model: Model AdaBoost\n",
      "Precision: 0.9091\n",
      "Recall: 0.8333\n",
      "F1 Score: 0.8696\n",
      "Accuracy: 0.8605\n",
      "\n",
      "Model: Model Extra Tree\n",
      "Precision: 0.9091\n",
      "Recall: 0.8333\n",
      "F1 Score: 0.8696\n",
      "Accuracy: 0.8605\n",
      "\n",
      "Model: Decison Tree\n",
      "Precision: 0.6061\n",
      "Recall: 0.8333\n",
      "F1 Score: 0.7018\n",
      "Accuracy: 0.6047\n",
      "\n",
      "Model: KNN\n",
      "Precision: 0.8947\n",
      "Recall: 0.7083\n",
      "F1 Score: 0.7907\n",
      "Accuracy: 0.7907\n",
      "\n",
      "Model: GaussianNB\n",
      "Precision: 0.9500\n",
      "Recall: 0.7917\n",
      "F1 Score: 0.8636\n",
      "Accuracy: 0.8605\n",
      "\n",
      "Model: BernoulliNB\n",
      "Precision: 1.0000\n",
      "Recall: 0.7917\n",
      "F1 Score: 0.8837\n",
      "Accuracy: 0.8837\n",
      "\n",
      "Model: SVC\n",
      "Precision: 1.0000\n",
      "Recall: 0.7917\n",
      "F1 Score: 0.8837\n",
      "Accuracy: 0.8837\n",
      "\n",
      "Model: LogisticRegression\n",
      "Precision: 0.9474\n",
      "Recall: 0.7500\n",
      "F1 Score: 0.8372\n",
      "Accuracy: 0.8372\n",
      "\n",
      "Model: SGDClassifier\n",
      "Precision: 0.8889\n",
      "Recall: 0.6667\n",
      "F1 Score: 0.7619\n",
      "Accuracy: 0.7674\n"
     ]
    },
    {
     "data": {
      "image/png": "[encoded data removed]",
      "text/plain": [
       "<Figure size 1080x1440 with 12 Axes>"
      ]
     },
     "metadata": {
      "needs_background": "light"
     },
     "output_type": "display_data"
    },
    {
     "name": "stdout",
     "output_type": "stream",
     "text": [
      "\n",
      "=====Best Model=====\n",
      "\n",
      "Model: Model Gradient Boosting\n",
      "Precision: 0.8800\n",
      "Recall: 0.9167\n",
      "F1 Score: 0.8980\n",
      "Accuracy: 0.8837\n"
     ]
    }
   ],
   "source": [
    "from sklearn.metrics import precision_score, recall_score, f1_score, accuracy_score\n",
    "\n",
    "# Function to calculate evaluation metrics\n",
    "def calculate_evaluation_metrics(y_true, y_pred):\n",
    "    precision = precision_score(y_true, y_pred)\n",
    "    recall = recall_score(y_true, y_pred)\n",
    "    f1 = f1_score(y_true, y_pred)\n",
    "    accuracy = accuracy_score(y_true, y_pred)\n",
    "    \n",
    "    return precision, recall, f1, accuracy\n",
    "def plot_confusion_matrix(ax, y_true, y_pred, title):\n",
    "    cm = confusion_matrix(y_true, y_pred)\n",
    "    sns.heatmap(cm, annot=True, fmt=\"d\", cmap=\"Blues\", linewidths=0.5, linecolor=\"black\", cbar=False, xticklabels=[\"Non-Failure\", \"Failure\"], yticklabels=[\"Non-Failure\", \"Failure\"], ax=ax)\n",
    "    ax.set_xlabel(\"Predicted\")\n",
    "    ax.set_ylabel(\"True\")\n",
    "    ax.set_title(title)\n",
    "# Initialize variables to store best metrics\n",
    "best_model = \"\"\n",
    "best_f1 = 0.0\n",
    "best_precision = 0.0\n",
    "best_recall = 0.0\n",
    "best_accuracy = 0.0\n",
    "\n",
    "# Create a 2x2 subplot grid\n",
    "fig, axes = plt.subplots(nrows=4, ncols=3, figsize=(3*5, 4*5))\n",
    "\n",
    "# Plot each confusion matrix and find the best model\n",
    "models = [\n",
    "    (\"Model Gradient Boosting\", y_pred_gb),\n",
    "    (\"Model Random Forest\", y_pred_rf),\n",
    "    (\"Model AdaBoost\", y_pred_ab),\n",
    "    (\"Model Extra Tree\", y_pred_etc),\n",
    "    (\"Decison Tree\", y_pred_dt),\n",
    "    (\"KNN\", y_pred_knn),\n",
    "    (\"GaussianNB\", y_pred_gnb),\n",
    "    (\"BernoulliNB\",y_pred_bnb),\n",
    "    (\"SVC\", y_pred_svc),\n",
    "    (\"LogisticRegression\", y_pred_lr),\n",
    "    (\"SGDClassifier\", y_pred_sgd),\n",
    "#     (\"Hard Voting Classifier\", y_pred_vh),\n",
    "]\n",
    "\n",
    "for (model_name, y_pred), ax in zip(models, axes.flatten()):\n",
    "    plot_confusion_matrix(ax, y_test, y_pred, f\"Confusion Matrix - {model_name}\")\n",
    "    \n",
    "    # Calculate evaluation metrics\n",
    "    precision, recall, f1, accuracy = calculate_evaluation_metrics(y_test, y_pred)\n",
    "    \n",
    "    # Print evaluation metrics\n",
    "    print(f\"\\nModel: {model_name}\")\n",
    "    print(f\"Precision: {precision:.4f}\")\n",
    "    print(f\"Recall: {recall:.4f}\")\n",
    "    print(f\"F1 Score: {f1:.4f}\")\n",
    "    print(f\"Accuracy: {accuracy:.4f}\")\n",
    "\n",
    "    # Update best model if current model has higher F1 score\n",
    "    if f1 > best_f1:\n",
    "        best_f1 = f1\n",
    "        best_model = model_name\n",
    "        best_precision = precision\n",
    "        best_recall = recall\n",
    "        best_accuracy = accuracy\n",
    "\n",
    "\n",
    "\n",
    "# Adjust layout\n",
    "plt.tight_layout()\n",
    "plt.show()\n",
    "\n",
    "# Print the best model\n",
    "print(\"\\n=====Best Model=====\\n\")\n",
    "print(f\"Model: {best_model}\")\n",
    "print(f\"Precision: {best_precision:.4f}\")\n",
    "print(f\"Recall: {best_recall:.4f}\")\n",
    "print(f\"F1 Score: {best_f1:.4f}\")\n",
    "print(f\"Accuracy: {best_accuracy:.4f}\")"
   ]
  },
  {
   "cell_type": "code",
   "execution_count": 66,
   "id": "0daeb85d",
   "metadata": {
    "execution": {
     "iopub.execute_input": "2023-12-05T09:09:54.078966Z",
     "iopub.status.busy": "2023-12-05T09:09:54.078156Z",
     "iopub.status.idle": "2023-12-05T09:09:54.430312Z",
     "shell.execute_reply": "2023-12-05T09:09:54.429201Z"
    },
    "papermill": {
     "duration": 0.516756,
     "end_time": "2023-12-05T09:09:54.432775",
     "exception": false,
     "start_time": "2023-12-05T09:09:53.916019",
     "status": "completed"
    },
    "tags": []
   },
   "outputs": [
    {
     "name": "stdout",
     "output_type": "stream",
     "text": [
      "AUC: 0.8640350877192984\n"
     ]
    },
    {
     "data": {
      "image/png": "[encoded data removed]",
      "text/plain": [
       "<Figure size 576x576 with 1 Axes>"
      ]
     },
     "metadata": {
      "needs_background": "light"
     },
     "output_type": "display_data"
    }
   ],
   "source": [
    "from sklearn.metrics import roc_curve, auc\n",
    "fpr, tpr, thresholds = roc_curve(y_test, y_pred_ab)\n",
    "roc_auc = auc(fpr, tpr)\n",
    "print(\"AUC:\", roc_auc)\n",
    "plt.figure(figsize=(8, 8))\n",
    "plt.plot(fpr, tpr, color='darkorange', lw=2, label='ROC curve (area = %0.2f)' % roc_auc)\n",
    "plt.plot([0, 1], [0, 1], color='navy', lw=2, linestyle='--')\n",
    "plt.xlabel('False Positive Rate')\n",
    "plt.ylabel('True Positive Rate')\n",
    "plt.title('Receiver Operating Characteristic (ROC) Curve')\n",
    "plt.legend(loc='lower right')\n",
    "plt.show()\n"
   ]
  },
  {
   "cell_type": "code",
   "execution_count": null,
   "id": "fcc145a0",
   "metadata": {
    "papermill": {
     "duration": 0.163393,
     "end_time": "2023-12-05T09:09:54.758166",
     "exception": false,
     "start_time": "2023-12-05T09:09:54.594773",
     "status": "completed"
    },
    "tags": []
   },
   "outputs": [],
   "source": []
  }
 ],
 "metadata": {
  "kaggle": {
   "accelerator": "none",
   "dataSources": [
    {
     "datasetId": 2613005,
     "sourceId": 4464096,
     "sourceType": "datasetVersion"
    }
   ],
   "dockerImageVersionId": 30587,
   "isGpuEnabled": false,
   "isInternetEnabled": true,
   "language": "python",
   "sourceType": "notebook"
  },
  "kernelspec": {
   "display_name": "Python 3 (ipykernel)",
   "language": "python",
   "name": "python3"
  },
  "language_info": {
   "codemirror_mode": {
    "name": "ipython",
    "version": 3
   },
   "file_extension": ".py",
   "mimetype": "text/x-python",
   "name": "python",
   "nbconvert_exporter": "python",
   "pygments_lexer": "ipython3",
   "version": "3.10.2"
  },
  "papermill": {
   "default_parameters": {},
   "duration": 308.86485,
   "end_time": "2023-12-05T09:09:56.450941",
   "environment_variables": {},
   "exception": null,
   "input_path": "__notebook__.ipynb",
   "output_path": "__notebook__.ipynb",
   "parameters": {},
   "start_time": "2023-12-05T09:04:47.586091",
   "version": "2.4.0"
  },
  "widgets": {
   "application/vnd.jupyter.widget-state+json": {
    "state": {
     "0691680b43fa457baae3075182f366e1": {
      "model_module": "@jupyter-widgets/controls",
      "model_module_version": "1.5.0",
      "model_name": "HTMLModel",
      "state": {
       "_dom_classes": [],
       "_model_module": "@jupyter-widgets/controls",
       "_model_module_version": "1.5.0",
       "_model_name": "HTMLModel",
       "_view_count": null,
       "_view_module": "@jupyter-widgets/controls",
       "_view_module_version": "1.5.0",
       "_view_name": "HTMLView",
       "description": "",
       "description_tooltip": null,
       "layout": "IPY_MODEL_4091cbaa7d534415a67bf148eebdadfe",
       "placeholder": "​",
       "style": "IPY_MODEL_e9335c66787c48f08e79582458572d96",
       "value": "Render HTML: 100%"
      }
     },
     "2983d6a9e28e489ca338f78548d1b390": {
      "model_module": "@jupyter-widgets/base",
      "model_module_version": "1.2.0",
      "model_name": "LayoutModel",
      "state": {
       "_model_module": "@jupyter-widgets/base",
       "_model_module_version": "1.2.0",
       "_model_name": "LayoutModel",
       "_view_count": null,
       "_view_module": "@jupyter-widgets/base",
       "_view_module_version": "1.2.0",
       "_view_name": "LayoutView",
       "align_content": null,
       "align_items": null,
       "align_self": null,
       "border": null,
       "bottom": null,
       "display": null,
       "flex": null,
       "flex_flow": null,
       "grid_area": null,
       "grid_auto_columns": null,
       "grid_auto_flow": null,
       "grid_auto_rows": null,
       "grid_column": null,
       "grid_gap": null,
       "grid_row": null,
       "grid_template_areas": null,
       "grid_template_columns": null,
       "grid_template_rows": null,
       "height": null,
       "justify_content": null,
       "justify_items": null,
       "left": null,
       "margin": null,
       "max_height": null,
       "max_width": null,
       "min_height": null,
       "min_width": null,
       "object_fit": null,
       "object_position": null,
       "order": null,
       "overflow": null,
       "overflow_x": null,
       "overflow_y": null,
       "padding": null,
       "right": null,
       "top": null,
       "visibility": null,
       "width": null
      }
     },
     "29e8926af4de4ec185897a806d07fb8a": {
      "model_module": "@jupyter-widgets/controls",
      "model_module_version": "1.5.0",
      "model_name": "HTMLModel",
      "state": {
       "_dom_classes": [],
       "_model_module": "@jupyter-widgets/controls",
       "_model_module_version": "1.5.0",
       "_model_name": "HTMLModel",
       "_view_count": null,
       "_view_module": "@jupyter-widgets/controls",
       "_view_module_version": "1.5.0",
       "_view_name": "HTMLView",
       "description": "",
       "description_tooltip": null,
       "layout": "IPY_MODEL_ca99b6cde4304a90a848975a45474243",
       "placeholder": "​",
       "style": "IPY_MODEL_6a3b67b887f945e69c631240b025e05a",
       "value": " 102/102 [00:39&lt;00:00,  2.16it/s, Completed]"
      }
     },
     "4091cbaa7d534415a67bf148eebdadfe": {
      "model_module": "@jupyter-widgets/base",
      "model_module_version": "1.2.0",
      "model_name": "LayoutModel",
      "state": {
       "_model_module": "@jupyter-widgets/base",
       "_model_module_version": "1.2.0",
       "_model_name": "LayoutModel",
       "_view_count": null,
       "_view_module": "@jupyter-widgets/base",
       "_view_module_version": "1.2.0",
       "_view_name": "LayoutView",
       "align_content": null,
       "align_items": null,
       "align_self": null,
       "border": null,
       "bottom": null,
       "display": null,
       "flex": null,
       "flex_flow": null,
       "grid_area": null,
       "grid_auto_columns": null,
       "grid_auto_flow": null,
       "grid_auto_rows": null,
       "grid_column": null,
       "grid_gap": null,
       "grid_row": null,
       "grid_template_areas": null,
       "grid_template_columns": null,
       "grid_template_rows": null,
       "height": null,
       "justify_content": null,
       "justify_items": null,
       "left": null,
       "margin": null,
       "max_height": null,
       "max_width": null,
       "min_height": null,
       "min_width": null,
       "object_fit": null,
       "object_position": null,
       "order": null,
       "overflow": null,
       "overflow_x": null,
       "overflow_y": null,
       "padding": null,
       "right": null,
       "top": null,
       "visibility": null,
       "width": null
      }
     },
     "44b6ac4aa00345d887d55b581305c6d8": {
      "model_module": "@jupyter-widgets/base",
      "model_module_version": "1.2.0",
      "model_name": "LayoutModel",
      "state": {
       "_model_module": "@jupyter-widgets/base",
       "_model_module_version": "1.2.0",
       "_model_name": "LayoutModel",
       "_view_count": null,
       "_view_module": "@jupyter-widgets/base",
       "_view_module_version": "1.2.0",
       "_view_name": "LayoutView",
       "align_content": null,
       "align_items": null,
       "align_self": null,
       "border": null,
       "bottom": null,
       "display": null,
       "flex": null,
       "flex_flow": null,
       "grid_area": null,
       "grid_auto_columns": null,
       "grid_auto_flow": null,
       "grid_auto_rows": null,
       "grid_column": null,
       "grid_gap": null,
       "grid_row": null,
       "grid_template_areas": null,
       "grid_template_columns": null,
       "grid_template_rows": null,
       "height": null,
       "justify_content": null,
       "justify_items": null,
       "left": null,
       "margin": null,
       "max_height": null,
       "max_width": null,
       "min_height": null,
       "min_width": null,
       "object_fit": null,
       "object_position": null,
       "order": null,
       "overflow": null,
       "overflow_x": null,
       "overflow_y": null,
       "padding": null,
       "right": null,
       "top": null,
       "visibility": null,
       "width": null
      }
     },
     "46a1233fb8034086a8357053248ad18c": {
      "model_module": "@jupyter-widgets/controls",
      "model_module_version": "1.5.0",
      "model_name": "HTMLModel",
      "state": {
       "_dom_classes": [],
       "_model_module": "@jupyter-widgets/controls",
       "_model_module_version": "1.5.0",
       "_model_name": "HTMLModel",
       "_view_count": null,
       "_view_module": "@jupyter-widgets/controls",
       "_view_module_version": "1.5.0",
       "_view_name": "HTMLView",
       "description": "",
       "description_tooltip": null,
       "layout": "IPY_MODEL_e7f2df4f0d1d441b8b0722e62204489c",
       "placeholder": "​",
       "style": "IPY_MODEL_ca9ed48d69c14607a367517495d23a89",
       "value": " 1/1 [00:11&lt;00:00, 11.80s/it]"
      }
     },
     "47cc7eaa68e349e9aa05056988ab037b": {
      "model_module": "@jupyter-widgets/base",
      "model_module_version": "1.2.0",
      "model_name": "LayoutModel",
      "state": {
       "_model_module": "@jupyter-widgets/base",
       "_model_module_version": "1.2.0",
       "_model_name": "LayoutModel",
       "_view_count": null,
       "_view_module": "@jupyter-widgets/base",
       "_view_module_version": "1.2.0",
       "_view_name": "LayoutView",
       "align_content": null,
       "align_items": null,
       "align_self": null,
       "border": null,
       "bottom": null,
       "display": null,
       "flex": null,
       "flex_flow": null,
       "grid_area": null,
       "grid_auto_columns": null,
       "grid_auto_flow": null,
       "grid_auto_rows": null,
       "grid_column": null,
       "grid_gap": null,
       "grid_row": null,
       "grid_template_areas": null,
       "grid_template_columns": null,
       "grid_template_rows": null,
       "height": null,
       "justify_content": null,
       "justify_items": null,
       "left": null,
       "margin": null,
       "max_height": null,
       "max_width": null,
       "min_height": null,
       "min_width": null,
       "object_fit": null,
       "object_position": null,
       "order": null,
       "overflow": null,
       "overflow_x": null,
       "overflow_y": null,
       "padding": null,
       "right": null,
       "top": null,
       "visibility": null,
       "width": null
      }
     },
     "4c572f56308941269a679cf37b276039": {
      "model_module": "@jupyter-widgets/controls",
      "model_module_version": "1.5.0",
      "model_name": "HBoxModel",
      "state": {
       "_dom_classes": [],
       "_model_module": "@jupyter-widgets/controls",
       "_model_module_version": "1.5.0",
       "_model_name": "HBoxModel",
       "_view_count": null,
       "_view_module": "@jupyter-widgets/controls",
       "_view_module_version": "1.5.0",
       "_view_name": "HBoxView",
       "box_style": "",
       "children": [
        "IPY_MODEL_a5e7de071e824652992e130bce2b0d5a",
        "IPY_MODEL_d30a5836861e41b99f67eef76bfd8efb",
        "IPY_MODEL_46a1233fb8034086a8357053248ad18c"
       ],
       "layout": "IPY_MODEL_e2f35f272e994194a243e368b3428294"
      }
     },
     "4e887ce1d7f24672abae0acd01d645f4": {
      "model_module": "@jupyter-widgets/controls",
      "model_module_version": "1.5.0",
      "model_name": "FloatProgressModel",
      "state": {
       "_dom_classes": [],
       "_model_module": "@jupyter-widgets/controls",
       "_model_module_version": "1.5.0",
       "_model_name": "FloatProgressModel",
       "_view_count": null,
       "_view_module": "@jupyter-widgets/controls",
       "_view_module_version": "1.5.0",
       "_view_name": "ProgressView",
       "bar_style": "success",
       "description": "",
       "description_tooltip": null,
       "layout": "IPY_MODEL_5a267b14e4484162af7063a1a8177072",
       "max": 1,
       "min": 0,
       "orientation": "horizontal",
       "style": "IPY_MODEL_a1dd7f839e76444ba4f7d546d17fadb6",
       "value": 1
      }
     },
     "5a267b14e4484162af7063a1a8177072": {
      "model_module": "@jupyter-widgets/base",
      "model_module_version": "1.2.0",
      "model_name": "LayoutModel",
      "state": {
       "_model_module": "@jupyter-widgets/base",
       "_model_module_version": "1.2.0",
       "_model_name": "LayoutModel",
       "_view_count": null,
       "_view_module": "@jupyter-widgets/base",
       "_view_module_version": "1.2.0",
       "_view_name": "LayoutView",
       "align_content": null,
       "align_items": null,
       "align_self": null,
       "border": null,
       "bottom": null,
       "display": null,
       "flex": null,
       "flex_flow": null,
       "grid_area": null,
       "grid_auto_columns": null,
       "grid_auto_flow": null,
       "grid_auto_rows": null,
       "grid_column": null,
       "grid_gap": null,
       "grid_row": null,
       "grid_template_areas": null,
       "grid_template_columns": null,
       "grid_template_rows": null,
       "height": null,
       "justify_content": null,
       "justify_items": null,
       "left": null,
       "margin": null,
       "max_height": null,
       "max_width": null,
       "min_height": null,
       "min_width": null,
       "object_fit": null,
       "object_position": null,
       "order": null,
       "overflow": null,
       "overflow_x": null,
       "overflow_y": null,
       "padding": null,
       "right": null,
       "top": null,
       "visibility": null,
       "width": null
      }
     },
     "60ee1773aa0d428ba973752afdb28cc9": {
      "model_module": "@jupyter-widgets/controls",
      "model_module_version": "1.5.0",
      "model_name": "HTMLModel",
      "state": {
       "_dom_classes": [],
       "_model_module": "@jupyter-widgets/controls",
       "_model_module_version": "1.5.0",
       "_model_name": "HTMLModel",
       "_view_count": null,
       "_view_module": "@jupyter-widgets/controls",
       "_view_module_version": "1.5.0",
       "_view_name": "HTMLView",
       "description": "",
       "description_tooltip": null,
       "layout": "IPY_MODEL_eb32a7c5cbd24a4591ca88e93ef3182a",
       "placeholder": "​",
       "style": "IPY_MODEL_779f0a3215224beb926cf1e7321601a9",
       "value": " 1/1 [00:04&lt;00:00,  4.46s/it]"
      }
     },
     "65f1cd46b3ad4edf89995c7d044bc643": {
      "model_module": "@jupyter-widgets/controls",
      "model_module_version": "1.5.0",
      "model_name": "FloatProgressModel",
      "state": {
       "_dom_classes": [],
       "_model_module": "@jupyter-widgets/controls",
       "_model_module_version": "1.5.0",
       "_model_name": "FloatProgressModel",
       "_view_count": null,
       "_view_module": "@jupyter-widgets/controls",
       "_view_module_version": "1.5.0",
       "_view_name": "ProgressView",
       "bar_style": "success",
       "description": "",
       "description_tooltip": null,
       "layout": "IPY_MODEL_47cc7eaa68e349e9aa05056988ab037b",
       "max": 5,
       "min": 0,
       "orientation": "horizontal",
       "style": "IPY_MODEL_90a0312fd94b4a1aaf16bcae629d8f1a",
       "value": 5
      }
     },
     "6880f97b1d9547b6b3f6ab1f69364118": {
      "model_module": "@jupyter-widgets/controls",
      "model_module_version": "1.5.0",
      "model_name": "DescriptionStyleModel",
      "state": {
       "_model_module": "@jupyter-widgets/controls",
       "_model_module_version": "1.5.0",
       "_model_name": "DescriptionStyleModel",
       "_view_count": null,
       "_view_module": "@jupyter-widgets/base",
       "_view_module_version": "1.2.0",
       "_view_name": "StyleView",
       "description_width": ""
      }
     },
     "6a3b67b887f945e69c631240b025e05a": {
      "model_module": "@jupyter-widgets/controls",
      "model_module_version": "1.5.0",
      "model_name": "DescriptionStyleModel",
      "state": {
       "_model_module": "@jupyter-widgets/controls",
       "_model_module_version": "1.5.0",
       "_model_name": "DescriptionStyleModel",
       "_view_count": null,
       "_view_module": "@jupyter-widgets/base",
       "_view_module_version": "1.2.0",
       "_view_name": "StyleView",
       "description_width": ""
      }
     },
     "779f0a3215224beb926cf1e7321601a9": {
      "model_module": "@jupyter-widgets/controls",
      "model_module_version": "1.5.0",
      "model_name": "DescriptionStyleModel",
      "state": {
       "_model_module": "@jupyter-widgets/controls",
       "_model_module_version": "1.5.0",
       "_model_name": "DescriptionStyleModel",
       "_view_count": null,
       "_view_module": "@jupyter-widgets/base",
       "_view_module_version": "1.2.0",
       "_view_name": "StyleView",
       "description_width": ""
      }
     },
     "7c07b37e747b4aa89154d8a925d519df": {
      "model_module": "@jupyter-widgets/base",
      "model_module_version": "1.2.0",
      "model_name": "LayoutModel",
      "state": {
       "_model_module": "@jupyter-widgets/base",
       "_model_module_version": "1.2.0",
       "_model_name": "LayoutModel",
       "_view_count": null,
       "_view_module": "@jupyter-widgets/base",
       "_view_module_version": "1.2.0",
       "_view_name": "LayoutView",
       "align_content": null,
       "align_items": null,
       "align_self": null,
       "border": null,
       "bottom": null,
       "display": null,
       "flex": null,
       "flex_flow": null,
       "grid_area": null,
       "grid_auto_columns": null,
       "grid_auto_flow": null,
       "grid_auto_rows": null,
       "grid_column": null,
       "grid_gap": null,
       "grid_row": null,
       "grid_template_areas": null,
       "grid_template_columns": null,
       "grid_template_rows": null,
       "height": null,
       "justify_content": null,
       "justify_items": null,
       "left": null,
       "margin": null,
       "max_height": null,
       "max_width": null,
       "min_height": null,
       "min_width": null,
       "object_fit": null,
       "object_position": null,
       "order": null,
       "overflow": null,
       "overflow_x": null,
       "overflow_y": null,
       "padding": null,
       "right": null,
       "top": null,
       "visibility": null,
       "width": null
      }
     },
     "8b51dd5e1bd64b05a9ab3c04eff55530": {
      "model_module": "@jupyter-widgets/controls",
      "model_module_version": "1.5.0",
      "model_name": "ProgressStyleModel",
      "state": {
       "_model_module": "@jupyter-widgets/controls",
       "_model_module_version": "1.5.0",
       "_model_name": "ProgressStyleModel",
       "_view_count": null,
       "_view_module": "@jupyter-widgets/base",
       "_view_module_version": "1.2.0",
       "_view_name": "StyleView",
       "bar_color": null,
       "description_width": ""
      }
     },
     "90a0312fd94b4a1aaf16bcae629d8f1a": {
      "model_module": "@jupyter-widgets/controls",
      "model_module_version": "1.5.0",
      "model_name": "ProgressStyleModel",
      "state": {
       "_model_module": "@jupyter-widgets/controls",
       "_model_module_version": "1.5.0",
       "_model_name": "ProgressStyleModel",
       "_view_count": null,
       "_view_module": "@jupyter-widgets/base",
       "_view_module_version": "1.2.0",
       "_view_name": "StyleView",
       "bar_color": null,
       "description_width": ""
      }
     },
     "a1dd7f839e76444ba4f7d546d17fadb6": {
      "model_module": "@jupyter-widgets/controls",
      "model_module_version": "1.5.0",
      "model_name": "ProgressStyleModel",
      "state": {
       "_model_module": "@jupyter-widgets/controls",
       "_model_module_version": "1.5.0",
       "_model_name": "ProgressStyleModel",
       "_view_count": null,
       "_view_module": "@jupyter-widgets/base",
       "_view_module_version": "1.2.0",
       "_view_name": "StyleView",
       "bar_color": null,
       "description_width": ""
      }
     },
     "a5e7de071e824652992e130bce2b0d5a": {
      "model_module": "@jupyter-widgets/controls",
      "model_module_version": "1.5.0",
      "model_name": "HTMLModel",
      "state": {
       "_dom_classes": [],
       "_model_module": "@jupyter-widgets/controls",
       "_model_module_version": "1.5.0",
       "_model_name": "HTMLModel",
       "_view_count": null,
       "_view_module": "@jupyter-widgets/controls",
       "_view_module_version": "1.5.0",
       "_view_name": "HTMLView",
       "description": "",
       "description_tooltip": null,
       "layout": "IPY_MODEL_2983d6a9e28e489ca338f78548d1b390",
       "placeholder": "​",
       "style": "IPY_MODEL_6880f97b1d9547b6b3f6ab1f69364118",
       "value": "Generate report structure: 100%"
      }
     },
     "adc3d3dbeab14a51837744e750f32187": {
      "model_module": "@jupyter-widgets/base",
      "model_module_version": "1.2.0",
      "model_name": "LayoutModel",
      "state": {
       "_model_module": "@jupyter-widgets/base",
       "_model_module_version": "1.2.0",
       "_model_name": "LayoutModel",
       "_view_count": null,
       "_view_module": "@jupyter-widgets/base",
       "_view_module_version": "1.2.0",
       "_view_name": "LayoutView",
       "align_content": null,
       "align_items": null,
       "align_self": null,
       "border": null,
       "bottom": null,
       "display": null,
       "flex": null,
       "flex_flow": null,
       "grid_area": null,
       "grid_auto_columns": null,
       "grid_auto_flow": null,
       "grid_auto_rows": null,
       "grid_column": null,
       "grid_gap": null,
       "grid_row": null,
       "grid_template_areas": null,
       "grid_template_columns": null,
       "grid_template_rows": null,
       "height": null,
       "justify_content": null,
       "justify_items": null,
       "left": null,
       "margin": null,
       "max_height": null,
       "max_width": null,
       "min_height": null,
       "min_width": null,
       "object_fit": null,
       "object_position": null,
       "order": null,
       "overflow": null,
       "overflow_x": null,
       "overflow_y": null,
       "padding": null,
       "right": null,
       "top": null,
       "visibility": null,
       "width": null
      }
     },
     "c6925d7c97084ab9a8cc1f976823976a": {
      "model_module": "@jupyter-widgets/base",
      "model_module_version": "1.2.0",
      "model_name": "LayoutModel",
      "state": {
       "_model_module": "@jupyter-widgets/base",
       "_model_module_version": "1.2.0",
       "_model_name": "LayoutModel",
       "_view_count": null,
       "_view_module": "@jupyter-widgets/base",
       "_view_module_version": "1.2.0",
       "_view_name": "LayoutView",
       "align_content": null,
       "align_items": null,
       "align_self": null,
       "border": null,
       "bottom": null,
       "display": null,
       "flex": null,
       "flex_flow": null,
       "grid_area": null,
       "grid_auto_columns": null,
       "grid_auto_flow": null,
       "grid_auto_rows": null,
       "grid_column": null,
       "grid_gap": null,
       "grid_row": null,
       "grid_template_areas": null,
       "grid_template_columns": null,
       "grid_template_rows": null,
       "height": null,
       "justify_content": null,
       "justify_items": null,
       "left": null,
       "margin": null,
       "max_height": null,
       "max_width": null,
       "min_height": null,
       "min_width": null,
       "object_fit": null,
       "object_position": null,
       "order": null,
       "overflow": null,
       "overflow_x": null,
       "overflow_y": null,
       "padding": null,
       "right": null,
       "top": null,
       "visibility": null,
       "width": null
      }
     },
     "ca99b6cde4304a90a848975a45474243": {
      "model_module": "@jupyter-widgets/base",
      "model_module_version": "1.2.0",
      "model_name": "LayoutModel",
      "state": {
       "_model_module": "@jupyter-widgets/base",
       "_model_module_version": "1.2.0",
       "_model_name": "LayoutModel",
       "_view_count": null,
       "_view_module": "@jupyter-widgets/base",
       "_view_module_version": "1.2.0",
       "_view_name": "LayoutView",
       "align_content": null,
       "align_items": null,
       "align_self": null,
       "border": null,
       "bottom": null,
       "display": null,
       "flex": null,
       "flex_flow": null,
       "grid_area": null,
       "grid_auto_columns": null,
       "grid_auto_flow": null,
       "grid_auto_rows": null,
       "grid_column": null,
       "grid_gap": null,
       "grid_row": null,
       "grid_template_areas": null,
       "grid_template_columns": null,
       "grid_template_rows": null,
       "height": null,
       "justify_content": null,
       "justify_items": null,
       "left": null,
       "margin": null,
       "max_height": null,
       "max_width": null,
       "min_height": null,
       "min_width": null,
       "object_fit": null,
       "object_position": null,
       "order": null,
       "overflow": null,
       "overflow_x": null,
       "overflow_y": null,
       "padding": null,
       "right": null,
       "top": null,
       "visibility": null,
       "width": null
      }
     },
     "ca9ed48d69c14607a367517495d23a89": {
      "model_module": "@jupyter-widgets/controls",
      "model_module_version": "1.5.0",
      "model_name": "DescriptionStyleModel",
      "state": {
       "_model_module": "@jupyter-widgets/controls",
       "_model_module_version": "1.5.0",
       "_model_name": "DescriptionStyleModel",
       "_view_count": null,
       "_view_module": "@jupyter-widgets/base",
       "_view_module_version": "1.2.0",
       "_view_name": "StyleView",
       "description_width": ""
      }
     },
     "cd196d9199514be48af6817f8dbe2839": {
      "model_module": "@jupyter-widgets/controls",
      "model_module_version": "1.5.0",
      "model_name": "HBoxModel",
      "state": {
       "_dom_classes": [],
       "_model_module": "@jupyter-widgets/controls",
       "_model_module_version": "1.5.0",
       "_model_name": "HBoxModel",
       "_view_count": null,
       "_view_module": "@jupyter-widgets/controls",
       "_view_module_version": "1.5.0",
       "_view_name": "HBoxView",
       "box_style": "",
       "children": [
        "IPY_MODEL_0691680b43fa457baae3075182f366e1",
        "IPY_MODEL_4e887ce1d7f24672abae0acd01d645f4",
        "IPY_MODEL_60ee1773aa0d428ba973752afdb28cc9"
       ],
       "layout": "IPY_MODEL_44b6ac4aa00345d887d55b581305c6d8"
      }
     },
     "d30a5836861e41b99f67eef76bfd8efb": {
      "model_module": "@jupyter-widgets/controls",
      "model_module_version": "1.5.0",
      "model_name": "FloatProgressModel",
      "state": {
       "_dom_classes": [],
       "_model_module": "@jupyter-widgets/controls",
       "_model_module_version": "1.5.0",
       "_model_name": "FloatProgressModel",
       "_view_count": null,
       "_view_module": "@jupyter-widgets/controls",
       "_view_module_version": "1.5.0",
       "_view_name": "ProgressView",
       "bar_style": "success",
       "description": "",
       "description_tooltip": null,
       "layout": "IPY_MODEL_7c07b37e747b4aa89154d8a925d519df",
       "max": 1,
       "min": 0,
       "orientation": "horizontal",
       "style": "IPY_MODEL_8b51dd5e1bd64b05a9ab3c04eff55530",
       "value": 1
      }
     },
     "d9f8008473024f4380103022ee931334": {
      "model_module": "@jupyter-widgets/controls",
      "model_module_version": "1.5.0",
      "model_name": "HTMLModel",
      "state": {
       "_dom_classes": [],
       "_model_module": "@jupyter-widgets/controls",
       "_model_module_version": "1.5.0",
       "_model_name": "HTMLModel",
       "_view_count": null,
       "_view_module": "@jupyter-widgets/controls",
       "_view_module_version": "1.5.0",
       "_view_name": "HTMLView",
       "description": "",
       "description_tooltip": null,
       "layout": "IPY_MODEL_adc3d3dbeab14a51837744e750f32187",
       "placeholder": "​",
       "style": "IPY_MODEL_de5d825152bb4f0298b91123df52a05c",
       "value": "Summarize dataset: 100%"
      }
     },
     "da081caa82574e9aa2ad7658e755d455": {
      "model_module": "@jupyter-widgets/controls",
      "model_module_version": "1.5.0",
      "model_name": "HBoxModel",
      "state": {
       "_dom_classes": [],
       "_model_module": "@jupyter-widgets/controls",
       "_model_module_version": "1.5.0",
       "_model_name": "HBoxModel",
       "_view_count": null,
       "_view_module": "@jupyter-widgets/controls",
       "_view_module_version": "1.5.0",
       "_view_name": "HBoxView",
       "box_style": "",
       "children": [
        "IPY_MODEL_d9f8008473024f4380103022ee931334",
        "IPY_MODEL_65f1cd46b3ad4edf89995c7d044bc643",
        "IPY_MODEL_29e8926af4de4ec185897a806d07fb8a"
       ],
       "layout": "IPY_MODEL_c6925d7c97084ab9a8cc1f976823976a"
      }
     },
     "de5d825152bb4f0298b91123df52a05c": {
      "model_module": "@jupyter-widgets/controls",
      "model_module_version": "1.5.0",
      "model_name": "DescriptionStyleModel",
      "state": {
       "_model_module": "@jupyter-widgets/controls",
       "_model_module_version": "1.5.0",
       "_model_name": "DescriptionStyleModel",
       "_view_count": null,
       "_view_module": "@jupyter-widgets/base",
       "_view_module_version": "1.2.0",
       "_view_name": "StyleView",
       "description_width": ""
      }
     },
     "e2f35f272e994194a243e368b3428294": {
      "model_module": "@jupyter-widgets/base",
      "model_module_version": "1.2.0",
      "model_name": "LayoutModel",
      "state": {
       "_model_module": "@jupyter-widgets/base",
       "_model_module_version": "1.2.0",
       "_model_name": "LayoutModel",
       "_view_count": null,
       "_view_module": "@jupyter-widgets/base",
       "_view_module_version": "1.2.0",
       "_view_name": "LayoutView",
       "align_content": null,
       "align_items": null,
       "align_self": null,
       "border": null,
       "bottom": null,
       "display": null,
       "flex": null,
       "flex_flow": null,
       "grid_area": null,
       "grid_auto_columns": null,
       "grid_auto_flow": null,
       "grid_auto_rows": null,
       "grid_column": null,
       "grid_gap": null,
       "grid_row": null,
       "grid_template_areas": null,
       "grid_template_columns": null,
       "grid_template_rows": null,
       "height": null,
       "justify_content": null,
       "justify_items": null,
       "left": null,
       "margin": null,
       "max_height": null,
       "max_width": null,
       "min_height": null,
       "min_width": null,
       "object_fit": null,
       "object_position": null,
       "order": null,
       "overflow": null,
       "overflow_x": null,
       "overflow_y": null,
       "padding": null,
       "right": null,
       "top": null,
       "visibility": null,
       "width": null
      }
     },
     "e7f2df4f0d1d441b8b0722e62204489c": {
      "model_module": "@jupyter-widgets/base",
      "model_module_version": "1.2.0",
      "model_name": "LayoutModel",
      "state": {
       "_model_module": "@jupyter-widgets/base",
       "_model_module_version": "1.2.0",
       "_model_name": "LayoutModel",
       "_view_count": null,
       "_view_module": "@jupyter-widgets/base",
       "_view_module_version": "1.2.0",
       "_view_name": "LayoutView",
       "align_content": null,
       "align_items": null,
       "align_self": null,
       "border": null,
       "bottom": null,
       "display": null,
       "flex": null,
       "flex_flow": null,
       "grid_area": null,
       "grid_auto_columns": null,
       "grid_auto_flow": null,
       "grid_auto_rows": null,
       "grid_column": null,
       "grid_gap": null,
       "grid_row": null,
       "grid_template_areas": null,
       "grid_template_columns": null,
       "grid_template_rows": null,
       "height": null,
       "justify_content": null,
       "justify_items": null,
       "left": null,
       "margin": null,
       "max_height": null,
       "max_width": null,
       "min_height": null,
       "min_width": null,
       "object_fit": null,
       "object_position": null,
       "order": null,
       "overflow": null,
       "overflow_x": null,
       "overflow_y": null,
       "padding": null,
       "right": null,
       "top": null,
       "visibility": null,
       "width": null
      }
     },
     "e9335c66787c48f08e79582458572d96": {
      "model_module": "@jupyter-widgets/controls",
      "model_module_version": "1.5.0",
      "model_name": "DescriptionStyleModel",
      "state": {
       "_model_module": "@jupyter-widgets/controls",
       "_model_module_version": "1.5.0",
       "_model_name": "DescriptionStyleModel",
       "_view_count": null,
       "_view_module": "@jupyter-widgets/base",
       "_view_module_version": "1.2.0",
       "_view_name": "StyleView",
       "description_width": ""
      }
     },
     "eb32a7c5cbd24a4591ca88e93ef3182a": {
      "model_module": "@jupyter-widgets/base",
      "model_module_version": "1.2.0",
      "model_name": "LayoutModel",
      "state": {
       "_model_module": "@jupyter-widgets/base",
       "_model_module_version": "1.2.0",
       "_model_name": "LayoutModel",
       "_view_count": null,
       "_view_module": "@jupyter-widgets/base",
       "_view_module_version": "1.2.0",
       "_view_name": "LayoutView",
       "align_content": null,
       "align_items": null,
       "align_self": null,
       "border": null,
       "bottom": null,
       "display": null,
       "flex": null,
       "flex_flow": null,
       "grid_area": null,
       "grid_auto_columns": null,
       "grid_auto_flow": null,
       "grid_auto_rows": null,
       "grid_column": null,
       "grid_gap": null,
       "grid_row": null,
       "grid_template_areas": null,
       "grid_template_columns": null,
       "grid_template_rows": null,
       "height": null,
       "justify_content": null,
       "justify_items": null,
       "left": null,
       "margin": null,
       "max_height": null,
       "max_width": null,
       "min_height": null,
       "min_width": null,
       "object_fit": null,
       "object_position": null,
       "order": null,
       "overflow": null,
       "overflow_x": null,
       "overflow_y": null,
       "padding": null,
       "right": null,
       "top": null,
       "visibility": null,
       "width": null
      }
     }
    },
    "version_major": 2,
    "version_minor": 0
   }
  }
 },
 "nbformat": 4,
 "nbformat_minor": 5
}
